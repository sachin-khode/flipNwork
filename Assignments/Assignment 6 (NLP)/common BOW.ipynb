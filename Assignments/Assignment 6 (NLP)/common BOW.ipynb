{
 "cells": [
  {
   "cell_type": "code",
   "execution_count": 10,
   "metadata": {},
   "outputs": [],
   "source": [
    "text = \"Data science is the advance technology which reduce the human effort and make things easier which involves coding, mathematics, statistics and some of the techniques such as machine learning, data mining and visualization. Data science is categorized into two types namely structured and unstructured data. Structured data contains numbers, dates. Whereas unstructured data contains text, video and mobile activity.\""
   ]
  },
  {
   "cell_type": "code",
   "execution_count": 11,
   "metadata": {},
   "outputs": [],
   "source": [
    "text1 = \"In simpler terms, Data Science is a branch of study which involves obtaining meaningful insights from raw & unstructured data. The colossal amount of data is processed through programming, analytical & business skills.Data Science is a multi- disciplinary field that uses scientific methods, processes, algorithms to produce knowledge & insights from structured & unstructured data. It utilises techniques & theories derived from many fields such as computer science, mathematics, statistics & information science.Data Science is a combination of skills in three major areas\""
   ]
  },
  {
   "cell_type": "code",
   "execution_count": 12,
   "metadata": {},
   "outputs": [],
   "source": [
    "import nltk\n",
    "from nltk.tokenize import word_tokenize \n",
    "from nltk.corpus import stopwords \n",
    "from sklearn.feature_extraction.text import CountVectorizer \n",
    "from nltk.stem import WordNetLemmatizer\n",
    "import string"
   ]
  },
  {
   "cell_type": "code",
   "execution_count": 13,
   "metadata": {},
   "outputs": [],
   "source": [
    "def message_text_process(mess):\n",
    "    no_punctuation = [char for char in mess if char not in string.punctuation]\n",
    "    no_punctuation = ''.join(no_punctuation)\n",
    "    return [word for word in no_punctuation.split() if word.lower() \n",
    "            not in stopwords.words('english')]"
   ]
  },
  {
   "cell_type": "code",
   "execution_count": 14,
   "metadata": {},
   "outputs": [],
   "source": [
    "word_sep = message_text_process(text)\n",
    "word_sep1 = message_text_process(text1)"
   ]
  },
  {
   "cell_type": "code",
   "execution_count": 17,
   "metadata": {},
   "outputs": [],
   "source": [
    "lemma1=[]\n",
    "for word in word_sep:\n",
    "    wordnet=WordNetLemmatizer().lemmatize(word)\n",
    "    lemma1.append(wordnet)"
   ]
  },
  {
   "cell_type": "code",
   "execution_count": 18,
   "metadata": {},
   "outputs": [
    {
     "name": "stdout",
     "output_type": "stream",
     "text": [
      "CountVectorizer(stop_words=['i', 'me', 'my', 'myself', 'we', 'our', 'ours',\n",
      "                            'ourselves', 'you', \"you're\", \"you've\", \"you'll\",\n",
      "                            \"you'd\", 'your', 'yours', 'yourself', 'yourselves',\n",
      "                            'he', 'him', 'his', 'himself', 'she', \"she's\",\n",
      "                            'her', 'hers', 'herself', 'it', \"it's\", 'its',\n",
      "                            'itself', ...])\n"
     ]
    }
   ],
   "source": [
    "stop_words=stopwords.words('english')\n",
    "vect1=CountVectorizer(stop_words=stop_words)\n",
    "print(vect1)"
   ]
  },
  {
   "cell_type": "code",
   "execution_count": 19,
   "metadata": {},
   "outputs": [
    {
     "data": {
      "text/plain": [
       "<42x33 sparse matrix of type '<class 'numpy.int64'>'\n",
       "\twith 42 stored elements in Compressed Sparse Row format>"
      ]
     },
     "execution_count": 19,
     "metadata": {},
     "output_type": "execute_result"
    }
   ],
   "source": [
    "vect1.fit_transform(lemma1)"
   ]
  },
  {
   "cell_type": "code",
   "execution_count": 60,
   "metadata": {},
   "outputs": [
    {
     "data": {
      "text/plain": [
       "['data',\n",
       " 'science',\n",
       " 'advance',\n",
       " 'technology',\n",
       " 'reduce',\n",
       " 'human',\n",
       " 'effort',\n",
       " 'make',\n",
       " 'thing',\n",
       " 'easier',\n",
       " 'involves',\n",
       " 'coding',\n",
       " 'mathematics',\n",
       " 'statistic',\n",
       " 'technique',\n",
       " 'machine',\n",
       " 'learning',\n",
       " 'mining',\n",
       " 'visualization',\n",
       " 'categorized',\n",
       " 'two',\n",
       " 'type',\n",
       " 'namely',\n",
       " 'structured',\n",
       " 'unstructured',\n",
       " 'contains',\n",
       " 'number',\n",
       " 'date',\n",
       " 'whereas',\n",
       " 'text',\n",
       " 'video',\n",
       " 'mobile',\n",
       " 'activity']"
      ]
     },
     "execution_count": 60,
     "metadata": {},
     "output_type": "execute_result"
    }
   ],
   "source": [
    "vv = vect1.vocabulary_\n",
    "vv1 = list(vv)\n",
    "vv1"
   ]
  },
  {
   "cell_type": "code",
   "execution_count": 25,
   "metadata": {},
   "outputs": [
    {
     "name": "stdout",
     "output_type": "stream",
     "text": [
      "CountVectorizer(stop_words=['i', 'me', 'my', 'myself', 'we', 'our', 'ours',\n",
      "                            'ourselves', 'you', \"you're\", \"you've\", \"you'll\",\n",
      "                            \"you'd\", 'your', 'yours', 'yourself', 'yourselves',\n",
      "                            'he', 'him', 'his', 'himself', 'she', \"she's\",\n",
      "                            'her', 'hers', 'herself', 'it', \"it's\", 'its',\n",
      "                            'itself', ...])\n"
     ]
    }
   ],
   "source": [
    "lemma2=[]\n",
    "for word in word_sep1:\n",
    "    wordnet=WordNetLemmatizer().lemmatize(word)\n",
    "    lemma2.append(wordnet)\n",
    "    \n",
    "stop_words=stopwords.words('english')\n",
    "vect2=CountVectorizer(stop_words=stop_words)\n",
    "print(vect2)    "
   ]
  },
  {
   "cell_type": "code",
   "execution_count": 29,
   "metadata": {},
   "outputs": [
    {
     "data": {
      "text/plain": [
       "<54x45 sparse matrix of type '<class 'numpy.int64'>'\n",
       "\twith 54 stored elements in Compressed Sparse Row format>"
      ]
     },
     "execution_count": 29,
     "metadata": {},
     "output_type": "execute_result"
    }
   ],
   "source": [
    "vect2.fit_transform(lemma2)"
   ]
  },
  {
   "cell_type": "code",
   "execution_count": 56,
   "metadata": {},
   "outputs": [
    {
     "data": {
      "text/plain": [
       "['simpler',\n",
       " 'term',\n",
       " 'data',\n",
       " 'science',\n",
       " 'branch',\n",
       " 'study',\n",
       " 'involves',\n",
       " 'obtaining',\n",
       " 'meaningful',\n",
       " 'insight',\n",
       " 'raw',\n",
       " 'unstructured',\n",
       " 'colossal',\n",
       " 'amount',\n",
       " 'processed',\n",
       " 'programming',\n",
       " 'analytical',\n",
       " 'business',\n",
       " 'skillsdata',\n",
       " 'multi',\n",
       " 'disciplinary',\n",
       " 'field',\n",
       " 'us',\n",
       " 'scientific',\n",
       " 'method',\n",
       " 'process',\n",
       " 'algorithm',\n",
       " 'produce',\n",
       " 'knowledge',\n",
       " 'structured',\n",
       " 'utilises',\n",
       " 'technique',\n",
       " 'theory',\n",
       " 'derived',\n",
       " 'many',\n",
       " 'computer',\n",
       " 'mathematics',\n",
       " 'statistic',\n",
       " 'information',\n",
       " 'sciencedata',\n",
       " 'combination',\n",
       " 'skill',\n",
       " 'three',\n",
       " 'major',\n",
       " 'area']"
      ]
     },
     "execution_count": 56,
     "metadata": {},
     "output_type": "execute_result"
    }
   ],
   "source": [
    "cc = vect2.vocabulary_\n",
    "cc1 = list(cc)\n",
    "cc1"
   ]
  },
  {
   "cell_type": "code",
   "execution_count": 62,
   "metadata": {},
   "outputs": [
    {
     "data": {
      "text/plain": [
       "['algorithm',\n",
       " 'amount',\n",
       " 'analytical',\n",
       " 'area',\n",
       " 'branch',\n",
       " 'business',\n",
       " 'colossal',\n",
       " 'combination',\n",
       " 'computer',\n",
       " 'data',\n",
       " 'derived',\n",
       " 'disciplinary',\n",
       " 'field',\n",
       " 'information',\n",
       " 'insight',\n",
       " 'involves',\n",
       " 'knowledge',\n",
       " 'major',\n",
       " 'many',\n",
       " 'mathematics',\n",
       " 'meaningful',\n",
       " 'method',\n",
       " 'multi',\n",
       " 'obtaining',\n",
       " 'process',\n",
       " 'processed',\n",
       " 'produce',\n",
       " 'programming',\n",
       " 'raw',\n",
       " 'science',\n",
       " 'sciencedata',\n",
       " 'scientific',\n",
       " 'simpler',\n",
       " 'skill',\n",
       " 'skillsdata',\n",
       " 'statistic',\n",
       " 'structured',\n",
       " 'study',\n",
       " 'technique',\n",
       " 'term',\n",
       " 'theory',\n",
       " 'three',\n",
       " 'unstructured',\n",
       " 'us',\n",
       " 'utilises']"
      ]
     },
     "execution_count": 62,
     "metadata": {},
     "output_type": "execute_result"
    }
   ],
   "source": [
    "a1 = vect1.get_feature_names()\n",
    "a2 = vect2.get_feature_names()\n",
    "a2"
   ]
  },
  {
   "cell_type": "code",
   "execution_count": 36,
   "metadata": {},
   "outputs": [
    {
     "data": {
      "text/plain": [
       "CountVectorizer(stop_words=['i', 'me', 'my', 'myself', 'we', 'our', 'ours',\n",
       "                            'ourselves', 'you', \"you're\", \"you've\", \"you'll\",\n",
       "                            \"you'd\", 'your', 'yours', 'yourself', 'yourselves',\n",
       "                            'he', 'him', 'his', 'himself', 'she', \"she's\",\n",
       "                            'her', 'hers', 'herself', 'it', \"it's\", 'its',\n",
       "                            'itself', ...])"
      ]
     },
     "execution_count": 36,
     "metadata": {},
     "output_type": "execute_result"
    }
   ],
   "source": [
    "vect2"
   ]
  },
  {
   "cell_type": "code",
   "execution_count": 63,
   "metadata": {},
   "outputs": [],
   "source": [
    "a3 = set(a1)&set(a2) # we don't need to list3 to actually be a list\n",
    "\n",
    "a4 = sorted(a3, key = lambda k : a1.index(k))"
   ]
  },
  {
   "cell_type": "code",
   "execution_count": 64,
   "metadata": {},
   "outputs": [
    {
     "data": {
      "text/plain": [
       "['data',\n",
       " 'involves',\n",
       " 'mathematics',\n",
       " 'science',\n",
       " 'statistic',\n",
       " 'structured',\n",
       " 'technique',\n",
       " 'unstructured']"
      ]
     },
     "execution_count": 64,
     "metadata": {},
     "output_type": "execute_result"
    }
   ],
   "source": [
    "a4"
   ]
  },
  {
   "cell_type": "code",
   "execution_count": null,
   "metadata": {},
   "outputs": [],
   "source": []
  },
  {
   "cell_type": "code",
   "execution_count": null,
   "metadata": {},
   "outputs": [],
   "source": []
  },
  {
   "cell_type": "code",
   "execution_count": null,
   "metadata": {},
   "outputs": [],
   "source": []
  },
  {
   "cell_type": "code",
   "execution_count": null,
   "metadata": {},
   "outputs": [],
   "source": []
  }
 ],
 "metadata": {
  "kernelspec": {
   "display_name": "nlp_one",
   "language": "python",
   "name": "nlp_one"
  },
  "language_info": {
   "codemirror_mode": {
    "name": "ipython",
    "version": 3
   },
   "file_extension": ".py",
   "mimetype": "text/x-python",
   "name": "python",
   "nbconvert_exporter": "python",
   "pygments_lexer": "ipython3",
   "version": "3.8.3"
  }
 },
 "nbformat": 4,
 "nbformat_minor": 2
}
