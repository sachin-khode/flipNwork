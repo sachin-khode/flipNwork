{
 "cells": [
  {
   "cell_type": "code",
   "execution_count": 92,
   "metadata": {},
   "outputs": [],
   "source": [
    "import pandas as pd\n",
    "import string\n",
    "from nltk.corpus import stopwords\n",
    "import numpy as np"
   ]
  },
  {
   "cell_type": "code",
   "execution_count": 93,
   "metadata": {},
   "outputs": [],
   "source": [
    "pd.options.display.max_colwidth = 10000"
   ]
  },
  {
   "cell_type": "code",
   "execution_count": 94,
   "metadata": {},
   "outputs": [
    {
     "name": "stderr",
     "output_type": "stream",
     "text": [
      "[nltk_data] Downloading package stopwords to /home/sk-ji/nltk_data...\n",
      "[nltk_data]   Package stopwords is already up-to-date!\n"
     ]
    },
    {
     "data": {
      "text/plain": [
       "True"
      ]
     },
     "execution_count": 94,
     "metadata": {},
     "output_type": "execute_result"
    }
   ],
   "source": [
    "import nltk\n",
    "nltk.download('stopwords')"
   ]
  },
  {
   "cell_type": "code",
   "execution_count": 106,
   "metadata": {},
   "outputs": [],
   "source": [
    "def get_tweets():\n",
    "    import GetOldTweets3 as got   # library used to scrape data from twitter without any other tools\n",
    "    tweetCriteria = got.manager.TweetCriteria().setQuerySearch('#covid19,corona') \\\n",
    "        .setSince(\"2020-05-01\") \\\n",
    "        .setUntil(\"2020-07-30\") \\\n",
    "        .setMaxTweets(1000)\n",
    "    # Creation of list that contains all tweets\n",
    "    tweets = got.manager.TweetManager.getTweets(tweetCriteria)\n",
    "    # Creating list of chosen tweet data\n",
    "    text_tweets = [[tweet.text] for tweet in tweets]\n",
    "    return text_tweets"
   ]
  },
  {
   "cell_type": "code",
   "execution_count": 109,
   "metadata": {},
   "outputs": [],
   "source": [
    "# reading text file\n",
    "text = \"\"\n",
    "text_tweets = get_tweets()\n",
    "\n",
    "length = len(text_tweets)\n",
    "\n",
    "for i in range(0, length):\n",
    "    text = text_tweets[i][0] + \" \" + text\n",
    "\n",
    "# converting to lowercase\n",
    "lower_case = text.lower()\n",
    "\n",
    "# Removing punctuations\n",
    "cleaned_text = lower_case.translate(str.maketrans('', '', string.punctuation))\n",
    "\n",
    "# splitting text into words\n",
    "tokenized_words = cleaned_text.split()"
   ]
  },
  {
   "cell_type": "code",
   "execution_count": 145,
   "metadata": {},
   "outputs": [],
   "source": [
    "from wordcloud import WordCloud\n",
    "import matplotlib.pyplot as plt\n",
    "%matplotlib inline"
   ]
  },
  {
   "cell_type": "code",
   "execution_count": null,
   "metadata": {},
   "outputs": [],
   "source": [
    "wc = WordCloud(width = 800, height=400).generate(x)\n",
    "plt.imshow(wc)\n",
    "plt.axis('off')\n",
    "plt.show()"
   ]
  },
  {
   "cell_type": "code",
   "execution_count": 110,
   "metadata": {},
   "outputs": [
    {
     "data": {
      "text/plain": [
       "0     #Saudi Arabia holds hajj this year with precautions to avoid #Corona the most important of which is the social spacing during the hajj #Hajj2020 This weather is the rafting around the Kaaba in Mecca Do you remember the photos of the raft before the #COVID19 virus spread \n",
       "1                                                                                                           COVID-19 CORONAVIRUS PANDEMIC Global Data Total Cases : 17,160,357 Total Recoverd : 10,671,249 Total Deaths : 669,066 #Corona #Covid19 #Coronavirus #Follow #CoronaUpdate\n",
       "2                                                                                                                                   1008025 people recovered from Corona today. Total Corona virus recoveries: 10397084 Source: WHO Situation Reports #COVID19 #coronavirus #StaySafe\n",
       "3                                                                                                                                                                                                                                  He's a complete liar. #COVID19 #COVID__19 #Corona \n",
       "4    VERGONHOSO! A imprensa nem por meio de um CONSÓRCIO formado por @g1mundo @RedeGlobo @folha @UOLNoticias SÃO INCAPAZES de terem ÉTICA. Criticam o @govbr por omitir informações do #covid19, no entanto OMITEM o nrs de RECUPERADOS. @jornalnacional. @Bot_Corona_V #eleicoes2020\n",
       "dtype: object"
      ]
     },
     "execution_count": 110,
     "metadata": {},
     "output_type": "execute_result"
    }
   ],
   "source": [
    "df = pd.Series( (v[0] for v in text_tweets) )\n",
    "df.head()"
   ]
  },
  {
   "cell_type": "code",
   "execution_count": 111,
   "metadata": {},
   "outputs": [],
   "source": [
    "df = pd.DataFrame(df)"
   ]
  },
  {
   "cell_type": "code",
   "execution_count": 112,
   "metadata": {},
   "outputs": [],
   "source": [
    "df.rename(columns = { '0': 'index','1': 'tweets' }, inplace=True)\n"
   ]
  },
  {
   "cell_type": "code",
   "execution_count": 113,
   "metadata": {},
   "outputs": [],
   "source": [
    "df.columns = ['tweets']\n"
   ]
  },
  {
   "cell_type": "code",
   "execution_count": 114,
   "metadata": {},
   "outputs": [
    {
     "data": {
      "text/plain": [
       "(1000, 1)"
      ]
     },
     "execution_count": 114,
     "metadata": {},
     "output_type": "execute_result"
    }
   ],
   "source": [
    "df.shape"
   ]
  },
  {
   "cell_type": "code",
   "execution_count": 115,
   "metadata": {},
   "outputs": [
    {
     "data": {
      "text/html": [
       "<div>\n",
       "<style scoped>\n",
       "    .dataframe tbody tr th:only-of-type {\n",
       "        vertical-align: middle;\n",
       "    }\n",
       "\n",
       "    .dataframe tbody tr th {\n",
       "        vertical-align: top;\n",
       "    }\n",
       "\n",
       "    .dataframe thead th {\n",
       "        text-align: right;\n",
       "    }\n",
       "</style>\n",
       "<table border=\"1\" class=\"dataframe\">\n",
       "  <thead>\n",
       "    <tr style=\"text-align: right;\">\n",
       "      <th></th>\n",
       "      <th>tweets</th>\n",
       "    </tr>\n",
       "  </thead>\n",
       "  <tbody>\n",
       "    <tr>\n",
       "      <th>0</th>\n",
       "      <td>#Saudi Arabia holds hajj this year with precautions to avoid #Corona the most important of which is the social spacing during the hajj #Hajj2020 This weather is the rafting around the Kaaba in Mecca Do you remember the photos of the raft before the #COVID19 virus spread</td>\n",
       "    </tr>\n",
       "    <tr>\n",
       "      <th>1</th>\n",
       "      <td>COVID-19 CORONAVIRUS PANDEMIC Global Data Total Cases : 17,160,357 Total Recoverd : 10,671,249 Total Deaths : 669,066 #Corona #Covid19 #Coronavirus #Follow #CoronaUpdate</td>\n",
       "    </tr>\n",
       "    <tr>\n",
       "      <th>2</th>\n",
       "      <td>1008025 people recovered from Corona today. Total Corona virus recoveries: 10397084 Source: WHO Situation Reports #COVID19 #coronavirus #StaySafe</td>\n",
       "    </tr>\n",
       "    <tr>\n",
       "      <th>3</th>\n",
       "      <td>He's a complete liar. #COVID19 #COVID__19 #Corona</td>\n",
       "    </tr>\n",
       "    <tr>\n",
       "      <th>4</th>\n",
       "      <td>VERGONHOSO! A imprensa nem por meio de um CONSÓRCIO formado por @g1mundo @RedeGlobo @folha @UOLNoticias SÃO INCAPAZES de terem ÉTICA. Criticam o @govbr por omitir informações do #covid19, no entanto OMITEM o nrs de RECUPERADOS. @jornalnacional. @Bot_Corona_V #eleicoes2020</td>\n",
       "    </tr>\n",
       "  </tbody>\n",
       "</table>\n",
       "</div>"
      ],
      "text/plain": [
       "                                                                                                                                                                                                                                                                             tweets\n",
       "0   #Saudi Arabia holds hajj this year with precautions to avoid #Corona the most important of which is the social spacing during the hajj #Hajj2020 This weather is the rafting around the Kaaba in Mecca Do you remember the photos of the raft before the #COVID19 virus spread \n",
       "1                                                                                                         COVID-19 CORONAVIRUS PANDEMIC Global Data Total Cases : 17,160,357 Total Recoverd : 10,671,249 Total Deaths : 669,066 #Corona #Covid19 #Coronavirus #Follow #CoronaUpdate\n",
       "2                                                                                                                                 1008025 people recovered from Corona today. Total Corona virus recoveries: 10397084 Source: WHO Situation Reports #COVID19 #coronavirus #StaySafe\n",
       "3                                                                                                                                                                                                                                He's a complete liar. #COVID19 #COVID__19 #Corona \n",
       "4  VERGONHOSO! A imprensa nem por meio de um CONSÓRCIO formado por @g1mundo @RedeGlobo @folha @UOLNoticias SÃO INCAPAZES de terem ÉTICA. Criticam o @govbr por omitir informações do #covid19, no entanto OMITEM o nrs de RECUPERADOS. @jornalnacional. @Bot_Corona_V #eleicoes2020"
      ]
     },
     "execution_count": 115,
     "metadata": {},
     "output_type": "execute_result"
    }
   ],
   "source": [
    "df.head()"
   ]
  },
  {
   "cell_type": "markdown",
   "metadata": {},
   "source": [
    "## Word Counts"
   ]
  },
  {
   "cell_type": "code",
   "execution_count": 116,
   "metadata": {},
   "outputs": [],
   "source": [
    "df['word_counts'] = df['tweets'].apply(lambda x: len(str(x).split()))\n"
   ]
  },
  {
   "cell_type": "markdown",
   "metadata": {},
   "source": [
    "## Character Count"
   ]
  },
  {
   "cell_type": "code",
   "execution_count": 119,
   "metadata": {},
   "outputs": [],
   "source": [
    "df['char_counts'] = df['tweets'].apply(lambda x: len(x))\n"
   ]
  },
  {
   "cell_type": "markdown",
   "metadata": {},
   "source": [
    "## Average Word Lenth"
   ]
  },
  {
   "cell_type": "code",
   "execution_count": 122,
   "metadata": {},
   "outputs": [],
   "source": [
    "def get_avg_word_len(x):\n",
    "    words = x.split()\n",
    "    word_len = 0\n",
    "    for word in words:\n",
    "        word_len = word_len + len(word)\n",
    "    return word_len/len(words) "
   ]
  },
  {
   "cell_type": "code",
   "execution_count": 123,
   "metadata": {},
   "outputs": [],
   "source": [
    "df['avg_word_len'] = df['tweets'].apply(lambda x: get_avg_word_len(x))"
   ]
  },
  {
   "cell_type": "code",
   "execution_count": 126,
   "metadata": {},
   "outputs": [
    {
     "name": "stdout",
     "output_type": "stream",
     "text": [
      "['i', 'me', 'my', 'myself', 'we', 'our', 'ours', 'ourselves', 'you', \"you're\", \"you've\", \"you'll\", \"you'd\", 'your', 'yours', 'yourself', 'yourselves', 'he', 'him', 'his', 'himself', 'she', \"she's\", 'her', 'hers', 'herself', 'it', \"it's\", 'its', 'itself', 'they', 'them', 'their', 'theirs', 'themselves', 'what', 'which', 'who', 'whom', 'this', 'that', \"that'll\", 'these', 'those', 'am', 'is', 'are', 'was', 'were', 'be', 'been', 'being', 'have', 'has', 'had', 'having', 'do', 'does', 'did', 'doing', 'a', 'an', 'the', 'and', 'but', 'if', 'or', 'because', 'as', 'until', 'while', 'of', 'at', 'by', 'for', 'with', 'about', 'against', 'between', 'into', 'through', 'during', 'before', 'after', 'above', 'below', 'to', 'from', 'up', 'down', 'in', 'out', 'on', 'off', 'over', 'under', 'again', 'further', 'then', 'once', 'here', 'there', 'when', 'where', 'why', 'how', 'all', 'any', 'both', 'each', 'few', 'more', 'most', 'other', 'some', 'such', 'no', 'nor', 'not', 'only', 'own', 'same', 'so', 'than', 'too', 'very', 's', 't', 'can', 'will', 'just', 'don', \"don't\", 'should', \"should've\", 'now', 'd', 'll', 'm', 'o', 're', 've', 'y', 'ain', 'aren', \"aren't\", 'couldn', \"couldn't\", 'didn', \"didn't\", 'doesn', \"doesn't\", 'hadn', \"hadn't\", 'hasn', \"hasn't\", 'haven', \"haven't\", 'isn', \"isn't\", 'ma', 'mightn', \"mightn't\", 'mustn', \"mustn't\", 'needn', \"needn't\", 'shan', \"shan't\", 'shouldn', \"shouldn't\", 'wasn', \"wasn't\", 'weren', \"weren't\", 'won', \"won't\", 'wouldn', \"wouldn't\"]\n"
     ]
    }
   ],
   "source": [
    "STOP_WORDS = stopwords.words('english')\n",
    "print(STOP_WORDS)\n"
   ]
  },
  {
   "cell_type": "code",
   "execution_count": 127,
   "metadata": {},
   "outputs": [],
   "source": [
    "df['stop_words_len'] = df['tweets'].apply(lambda x: len([t for t in x.split() if t in STOP_WORDS]))\n"
   ]
  },
  {
   "cell_type": "markdown",
   "metadata": {},
   "source": [
    "## Count #HashTags and @Mentions¶\n"
   ]
  },
  {
   "cell_type": "code",
   "execution_count": 129,
   "metadata": {},
   "outputs": [],
   "source": [
    "df['hashtags_count'] = df['tweets'].apply(lambda x: len([t for t in x.split() if t.startswith('#')]))\n",
    "df['mentions_count'] = df['tweets'].apply(lambda x: len([t for t in x.split() if t.startswith('@')]))"
   ]
  },
  {
   "cell_type": "markdown",
   "metadata": {},
   "source": [
    "## Numeric Count"
   ]
  },
  {
   "cell_type": "code",
   "execution_count": 131,
   "metadata": {},
   "outputs": [],
   "source": [
    "df['numerics_count'] = df['tweets'].apply(lambda x: len([t for t in x.split() if t.isdigit()]))\n"
   ]
  },
  {
   "cell_type": "markdown",
   "metadata": {},
   "source": [
    "## REmoving special character"
   ]
  },
  {
   "cell_type": "code",
   "execution_count": 134,
   "metadata": {},
   "outputs": [],
   "source": [
    "import re"
   ]
  },
  {
   "cell_type": "code",
   "execution_count": 135,
   "metadata": {},
   "outputs": [],
   "source": [
    "df['tweets'] = df['tweets'].apply(lambda x: re.sub('[^A-Z a-z 0-9-]+', '', x))\n"
   ]
  },
  {
   "cell_type": "markdown",
   "metadata": {},
   "source": [
    "## Remove multiple spaces"
   ]
  },
  {
   "cell_type": "code",
   "execution_count": 136,
   "metadata": {},
   "outputs": [],
   "source": [
    "df['tweets'] = df['tweets'].apply(lambda x: \" \".join(x.split()))\n"
   ]
  },
  {
   "cell_type": "markdown",
   "metadata": {},
   "source": [
    "## Remove Re Tweets"
   ]
  },
  {
   "cell_type": "code",
   "execution_count": 137,
   "metadata": {},
   "outputs": [],
   "source": [
    "df['tweets'] = df['tweets'].apply(lambda x: re.sub('RT', \"\", x))\n"
   ]
  },
  {
   "cell_type": "markdown",
   "metadata": {},
   "source": [
    "## Count URLs and Remove it and Remove Emails"
   ]
  },
  {
   "cell_type": "code",
   "execution_count": 138,
   "metadata": {},
   "outputs": [],
   "source": [
    "df['emails'] = df['tweets'].apply(lambda x: re.findall(r'([a-zA-Z0-9+._-]+@[a-zA-Z0-9._-]+\\.[a-zA-Z0-9_-]+)', x))\n"
   ]
  },
  {
   "cell_type": "code",
   "execution_count": 149,
   "metadata": {},
   "outputs": [],
   "source": [
    "df.drop('emails',axis=1,inplace=True)"
   ]
  },
  {
   "cell_type": "code",
   "execution_count": 139,
   "metadata": {},
   "outputs": [],
   "source": [
    "df['emails_count'] = df['emails'].apply(lambda x: len(x))\n"
   ]
  },
  {
   "cell_type": "code",
   "execution_count": 140,
   "metadata": {},
   "outputs": [],
   "source": [
    "df['urls_flag'] = df['tweets'].apply(lambda x: len(re.findall(r'(http|ftp|https)://([\\w_-]+(?:(?:\\.[\\w_-]+)+))([\\w.,@?^=%&:/~+#-]*[\\w@?^=%&/~+#-])?', x)))"
   ]
  },
  {
   "cell_type": "code",
   "execution_count": 141,
   "metadata": {},
   "outputs": [],
   "source": [
    "df['tweets'] = df['tweets'].apply(lambda x: re.sub(r'(http|ftp|https)://([\\w_-]+(?:(?:\\.[\\w_-]+)+))([\\w.,@?^=%&:/~+#-]*[\\w@?^=%&/~+#-])?', '', x))"
   ]
  },
  {
   "cell_type": "code",
   "execution_count": 150,
   "metadata": {},
   "outputs": [
    {
     "data": {
      "text/html": [
       "<div>\n",
       "<style scoped>\n",
       "    .dataframe tbody tr th:only-of-type {\n",
       "        vertical-align: middle;\n",
       "    }\n",
       "\n",
       "    .dataframe tbody tr th {\n",
       "        vertical-align: top;\n",
       "    }\n",
       "\n",
       "    .dataframe thead th {\n",
       "        text-align: right;\n",
       "    }\n",
       "</style>\n",
       "<table border=\"1\" class=\"dataframe\">\n",
       "  <thead>\n",
       "    <tr style=\"text-align: right;\">\n",
       "      <th></th>\n",
       "      <th>tweets</th>\n",
       "      <th>word_counts</th>\n",
       "      <th>char_counts</th>\n",
       "      <th>avg_word_len</th>\n",
       "      <th>stop_words_len</th>\n",
       "      <th>hashtags_count</th>\n",
       "      <th>mentions_count</th>\n",
       "      <th>numerics_count</th>\n",
       "      <th>emails_count</th>\n",
       "      <th>urls_flag</th>\n",
       "    </tr>\n",
       "  </thead>\n",
       "  <tbody>\n",
       "    <tr>\n",
       "      <th>0</th>\n",
       "      <td>Saudi Arabia holds hajj this year with precautions to avoid Corona the most important of which is the social spacing during the hajj Hajj2020 This weather is the rafting around the Kaaba in Mecca Do you remember the photos of the raft before the COVID19 virus spread</td>\n",
       "      <td>47</td>\n",
       "      <td>271</td>\n",
       "      <td>4.765957</td>\n",
       "      <td>21</td>\n",
       "      <td>4</td>\n",
       "      <td>0</td>\n",
       "      <td>0</td>\n",
       "      <td>0</td>\n",
       "      <td>0</td>\n",
       "    </tr>\n",
       "    <tr>\n",
       "      <th>1</th>\n",
       "      <td>COVID-19 CORONAVIRUS PANDEMIC Global Data Total Cases 17160357 Total Recoverd 10671249 Total Deaths 669066 Corona Covid19 Coronavirus Follow CoronaUpdate</td>\n",
       "      <td>22</td>\n",
       "      <td>170</td>\n",
       "      <td>6.727273</td>\n",
       "      <td>0</td>\n",
       "      <td>5</td>\n",
       "      <td>0</td>\n",
       "      <td>0</td>\n",
       "      <td>0</td>\n",
       "      <td>0</td>\n",
       "    </tr>\n",
       "    <tr>\n",
       "      <th>2</th>\n",
       "      <td>1008025 people recovered from Corona today Total Corona virus recoveries 10397084 Source WHO Situation Reports COVID19 coronavirus StaySafe</td>\n",
       "      <td>18</td>\n",
       "      <td>145</td>\n",
       "      <td>7.111111</td>\n",
       "      <td>1</td>\n",
       "      <td>3</td>\n",
       "      <td>0</td>\n",
       "      <td>2</td>\n",
       "      <td>0</td>\n",
       "      <td>0</td>\n",
       "    </tr>\n",
       "    <tr>\n",
       "      <th>3</th>\n",
       "      <td>Hes a complete liar COVID19 COVID19 Corona</td>\n",
       "      <td>7</td>\n",
       "      <td>50</td>\n",
       "      <td>6.142857</td>\n",
       "      <td>1</td>\n",
       "      <td>3</td>\n",
       "      <td>0</td>\n",
       "      <td>0</td>\n",
       "      <td>0</td>\n",
       "      <td>0</td>\n",
       "    </tr>\n",
       "    <tr>\n",
       "      <th>4</th>\n",
       "      <td>VERGONHOSO A imprensa nem por meio de um CONSRCIO formado por g1mundo RedeGlobo folha UOLNoticias SO INCAPAZES de terem TICA Criticam o govbr por omitir informaes do covid19 no entanto OMITEM o nrs de RECUPERADOS jornalnacional BotCoronaV eleicoes2020</td>\n",
       "      <td>38</td>\n",
       "      <td>272</td>\n",
       "      <td>6.184211</td>\n",
       "      <td>4</td>\n",
       "      <td>2</td>\n",
       "      <td>7</td>\n",
       "      <td>0</td>\n",
       "      <td>0</td>\n",
       "      <td>0</td>\n",
       "    </tr>\n",
       "    <tr>\n",
       "      <th>...</th>\n",
       "      <td>...</td>\n",
       "      <td>...</td>\n",
       "      <td>...</td>\n",
       "      <td>...</td>\n",
       "      <td>...</td>\n",
       "      <td>...</td>\n",
       "      <td>...</td>\n",
       "      <td>...</td>\n",
       "      <td>...</td>\n",
       "      <td>...</td>\n",
       "    </tr>\n",
       "    <tr>\n",
       "      <th>995</th>\n",
       "      <td>Seit in Malaysia Flle von COVID19 festgestellt wurden nimmt die Diskriminierung gegen die Minderheit der Rohingya drastisch zu Artikel bei infosperber httpswwwinfosperberchArtikelFreiheitRechtRohingya-Diskriminierung-unter-Vorwand-der-Corona-Bekampfung corona Myanmar</td>\n",
       "      <td>24</td>\n",
       "      <td>285</td>\n",
       "      <td>10.916667</td>\n",
       "      <td>1</td>\n",
       "      <td>6</td>\n",
       "      <td>1</td>\n",
       "      <td>0</td>\n",
       "      <td>0</td>\n",
       "      <td>0</td>\n",
       "    </tr>\n",
       "    <tr>\n",
       "      <th>996</th>\n",
       "      <td>Hej svtagenda svtnyheter Varfr vgrar Ni frga ut politiskt ansv i Stockholm amp RegionStockholm om hant av COVID19 Dvs moderaterna Om Ledarskap Frnvaro av skyddsutrustning Medicinsk kompetens Bortprioritering av sjuka Svpol Skpol Corona</td>\n",
       "      <td>34</td>\n",
       "      <td>258</td>\n",
       "      <td>6.588235</td>\n",
       "      <td>1</td>\n",
       "      <td>6</td>\n",
       "      <td>3</td>\n",
       "      <td>0</td>\n",
       "      <td>0</td>\n",
       "      <td>0</td>\n",
       "    </tr>\n",
       "    <tr>\n",
       "      <th>997</th>\n",
       "      <td>Consider Eating healthy follow the following guide china corona coronaVirus covid19 Wuhan400 httpswwwtrendingleocom202002how-to-stay-safe-from-covid-19-corona-virus</td>\n",
       "      <td>13</td>\n",
       "      <td>178</td>\n",
       "      <td>12.769231</td>\n",
       "      <td>1</td>\n",
       "      <td>5</td>\n",
       "      <td>0</td>\n",
       "      <td>0</td>\n",
       "      <td>0</td>\n",
       "      <td>0</td>\n",
       "    </tr>\n",
       "    <tr>\n",
       "      <th>998</th>\n",
       "      <td>httpswwwnewsweekcomkey-defeating-covid-19-already-exists-we-need-start-using-it-opinion-1519535 mondkapjes coronamaatregelen Corona COVID19 COVIDIDIOTS COVID DoutzenKroes We hebben geen vaccin nodig NIEMAND HEEFT EEN Vaccin NODIGMinPres en Kamerleden Nederland heeft Hydroxychloroquine nodig DUS DOE EINDELIJK IETS nosjournaal NPO</td>\n",
       "      <td>30</td>\n",
       "      <td>353</td>\n",
       "      <td>10.800000</td>\n",
       "      <td>0</td>\n",
       "      <td>12</td>\n",
       "      <td>0</td>\n",
       "      <td>0</td>\n",
       "      <td>0</td>\n",
       "      <td>0</td>\n",
       "    </tr>\n",
       "    <tr>\n",
       "      <th>999</th>\n",
       "      <td>BREAKING 6426 234114 Corona TNCorona COVID19 HinduTamil Chennai Tamilnadu LockDown CoronaStatus</td>\n",
       "      <td>27</td>\n",
       "      <td>225</td>\n",
       "      <td>7.370370</td>\n",
       "      <td>0</td>\n",
       "      <td>10</td>\n",
       "      <td>0</td>\n",
       "      <td>0</td>\n",
       "      <td>0</td>\n",
       "      <td>0</td>\n",
       "    </tr>\n",
       "  </tbody>\n",
       "</table>\n",
       "<p>1000 rows × 10 columns</p>\n",
       "</div>"
      ],
      "text/plain": [
       "                                                                                                                                                                                                                                                                                                                                         tweets  \\\n",
       "0                                                                    Saudi Arabia holds hajj this year with precautions to avoid Corona the most important of which is the social spacing during the hajj Hajj2020 This weather is the rafting around the Kaaba in Mecca Do you remember the photos of the raft before the COVID19 virus spread   \n",
       "1                                                                                                                                                                                     COVID-19 CORONAVIRUS PANDEMIC Global Data Total Cases 17160357 Total Recoverd 10671249 Total Deaths 669066 Corona Covid19 Coronavirus Follow CoronaUpdate   \n",
       "2                                                                                                                                                                                                   1008025 people recovered from Corona today Total Corona virus recoveries 10397084 Source WHO Situation Reports COVID19 coronavirus StaySafe   \n",
       "3                                                                                                                                                                                                                                                                                                    Hes a complete liar COVID19 COVID19 Corona   \n",
       "4                                                                                   VERGONHOSO A imprensa nem por meio de um CONSRCIO formado por g1mundo RedeGlobo folha UOLNoticias SO INCAPAZES de terem TICA Criticam o govbr por omitir informaes do covid19 no entanto OMITEM o nrs de RECUPERADOS jornalnacional BotCoronaV eleicoes2020   \n",
       "..                                                                                                                                                                                                                                                                                                                                          ...   \n",
       "995                                                                 Seit in Malaysia Flle von COVID19 festgestellt wurden nimmt die Diskriminierung gegen die Minderheit der Rohingya drastisch zu Artikel bei infosperber httpswwwinfosperberchArtikelFreiheitRechtRohingya-Diskriminierung-unter-Vorwand-der-Corona-Bekampfung corona Myanmar   \n",
       "996                                                                                                 Hej svtagenda svtnyheter Varfr vgrar Ni frga ut politiskt ansv i Stockholm amp RegionStockholm om hant av COVID19 Dvs moderaterna Om Ledarskap Frnvaro av skyddsutrustning Medicinsk kompetens Bortprioritering av sjuka Svpol Skpol Corona   \n",
       "997                                                                                                                                                                        Consider Eating healthy follow the following guide china corona coronaVirus covid19 Wuhan400 httpswwwtrendingleocom202002how-to-stay-safe-from-covid-19-corona-virus   \n",
       "998  httpswwwnewsweekcomkey-defeating-covid-19-already-exists-we-need-start-using-it-opinion-1519535 mondkapjes coronamaatregelen Corona COVID19 COVIDIDIOTS COVID DoutzenKroes We hebben geen vaccin nodig NIEMAND HEEFT EEN Vaccin NODIGMinPres en Kamerleden Nederland heeft Hydroxychloroquine nodig DUS DOE EINDELIJK IETS nosjournaal NPO   \n",
       "999                                                                                                                                                                                                                                             BREAKING 6426 234114 Corona TNCorona COVID19 HinduTamil Chennai Tamilnadu LockDown CoronaStatus   \n",
       "\n",
       "     word_counts  char_counts  avg_word_len  stop_words_len  hashtags_count  \\\n",
       "0             47          271      4.765957              21               4   \n",
       "1             22          170      6.727273               0               5   \n",
       "2             18          145      7.111111               1               3   \n",
       "3              7           50      6.142857               1               3   \n",
       "4             38          272      6.184211               4               2   \n",
       "..           ...          ...           ...             ...             ...   \n",
       "995           24          285     10.916667               1               6   \n",
       "996           34          258      6.588235               1               6   \n",
       "997           13          178     12.769231               1               5   \n",
       "998           30          353     10.800000               0              12   \n",
       "999           27          225      7.370370               0              10   \n",
       "\n",
       "     mentions_count  numerics_count  emails_count  urls_flag  \n",
       "0                 0               0             0          0  \n",
       "1                 0               0             0          0  \n",
       "2                 0               2             0          0  \n",
       "3                 0               0             0          0  \n",
       "4                 7               0             0          0  \n",
       "..              ...             ...           ...        ...  \n",
       "995               1               0             0          0  \n",
       "996               3               0             0          0  \n",
       "997               0               0             0          0  \n",
       "998               0               0             0          0  \n",
       "999               0               0             0          0  \n",
       "\n",
       "[1000 rows x 10 columns]"
      ]
     },
     "execution_count": 150,
     "metadata": {},
     "output_type": "execute_result"
    }
   ],
   "source": [
    "df"
   ]
  },
  {
   "cell_type": "code",
   "execution_count": 151,
   "metadata": {},
   "outputs": [],
   "source": [
    "def message_text_process(mess):\n",
    "    no_punctuation = [char for char in mess if char not in string.punctuation]\n",
    "    no_punctuation = ''.join(no_punctuation)\n",
    "    return [word for word in no_punctuation.split() if word.lower() \n",
    "            not in stopwords.words('english')]"
   ]
  },
  {
   "cell_type": "code",
   "execution_count": 153,
   "metadata": {},
   "outputs": [
    {
     "data": {
      "text/plain": [
       "0                                                                               [Saudi, Arabia, holds, hajj, year, precautions, avoid, Corona, important, social, spacing, hajj, Hajj2020, weather, rafting, around, Kaaba, Mecca, remember, photos, raft, COVID19, virus, spread]\n",
       "1                                                                                                     [COVID19, CORONAVIRUS, PANDEMIC, Global, Data, Total, Cases, 17160357, Total, Recoverd, 10671249, Total, Deaths, 669066, Corona, Covid19, Coronavirus, Follow, CoronaUpdate]\n",
       "2                                                                                                                              [1008025, people, recovered, Corona, today, Total, Corona, virus, recoveries, 10397084, Source, Situation, Reports, COVID19, coronavirus, StaySafe]\n",
       "3                                                                                                                                                                                                                                  [Hes, complete, liar, COVID19, COVID19, Corona]\n",
       "4    [VERGONHOSO, imprensa, nem, por, meio, de, um, CONSRCIO, formado, por, g1mundo, RedeGlobo, folha, UOLNoticias, INCAPAZES, de, terem, TICA, Criticam, govbr, por, omitir, informaes, covid19, entanto, OMITEM, nrs, de, RECUPERADOS, jornalnacional, BotCoronaV, eleicoes2020]\n",
       "Name: tweets, dtype: object"
      ]
     },
     "execution_count": 153,
     "metadata": {},
     "output_type": "execute_result"
    }
   ],
   "source": [
    "df['tweets'].head(5).apply(message_text_process)"
   ]
  },
  {
   "cell_type": "code",
   "execution_count": 154,
   "metadata": {},
   "outputs": [
    {
     "data": {
      "text/html": [
       "<div>\n",
       "<style scoped>\n",
       "    .dataframe tbody tr th:only-of-type {\n",
       "        vertical-align: middle;\n",
       "    }\n",
       "\n",
       "    .dataframe tbody tr th {\n",
       "        vertical-align: top;\n",
       "    }\n",
       "\n",
       "    .dataframe thead th {\n",
       "        text-align: right;\n",
       "    }\n",
       "</style>\n",
       "<table border=\"1\" class=\"dataframe\">\n",
       "  <thead>\n",
       "    <tr style=\"text-align: right;\">\n",
       "      <th></th>\n",
       "      <th>tweets</th>\n",
       "      <th>word_counts</th>\n",
       "      <th>char_counts</th>\n",
       "      <th>avg_word_len</th>\n",
       "      <th>stop_words_len</th>\n",
       "      <th>hashtags_count</th>\n",
       "      <th>mentions_count</th>\n",
       "      <th>numerics_count</th>\n",
       "      <th>emails_count</th>\n",
       "      <th>urls_flag</th>\n",
       "    </tr>\n",
       "  </thead>\n",
       "  <tbody>\n",
       "    <tr>\n",
       "      <th>0</th>\n",
       "      <td>Saudi Arabia holds hajj this year with precautions to avoid Corona the most important of which is the social spacing during the hajj Hajj2020 This weather is the rafting around the Kaaba in Mecca Do you remember the photos of the raft before the COVID19 virus spread</td>\n",
       "      <td>47</td>\n",
       "      <td>271</td>\n",
       "      <td>4.765957</td>\n",
       "      <td>21</td>\n",
       "      <td>4</td>\n",
       "      <td>0</td>\n",
       "      <td>0</td>\n",
       "      <td>0</td>\n",
       "      <td>0</td>\n",
       "    </tr>\n",
       "    <tr>\n",
       "      <th>1</th>\n",
       "      <td>COVID-19 CORONAVIRUS PANDEMIC Global Data Total Cases 17160357 Total Recoverd 10671249 Total Deaths 669066 Corona Covid19 Coronavirus Follow CoronaUpdate</td>\n",
       "      <td>22</td>\n",
       "      <td>170</td>\n",
       "      <td>6.727273</td>\n",
       "      <td>0</td>\n",
       "      <td>5</td>\n",
       "      <td>0</td>\n",
       "      <td>0</td>\n",
       "      <td>0</td>\n",
       "      <td>0</td>\n",
       "    </tr>\n",
       "    <tr>\n",
       "      <th>2</th>\n",
       "      <td>1008025 people recovered from Corona today Total Corona virus recoveries 10397084 Source WHO Situation Reports COVID19 coronavirus StaySafe</td>\n",
       "      <td>18</td>\n",
       "      <td>145</td>\n",
       "      <td>7.111111</td>\n",
       "      <td>1</td>\n",
       "      <td>3</td>\n",
       "      <td>0</td>\n",
       "      <td>2</td>\n",
       "      <td>0</td>\n",
       "      <td>0</td>\n",
       "    </tr>\n",
       "    <tr>\n",
       "      <th>3</th>\n",
       "      <td>Hes a complete liar COVID19 COVID19 Corona</td>\n",
       "      <td>7</td>\n",
       "      <td>50</td>\n",
       "      <td>6.142857</td>\n",
       "      <td>1</td>\n",
       "      <td>3</td>\n",
       "      <td>0</td>\n",
       "      <td>0</td>\n",
       "      <td>0</td>\n",
       "      <td>0</td>\n",
       "    </tr>\n",
       "    <tr>\n",
       "      <th>4</th>\n",
       "      <td>VERGONHOSO A imprensa nem por meio de um CONSRCIO formado por g1mundo RedeGlobo folha UOLNoticias SO INCAPAZES de terem TICA Criticam o govbr por omitir informaes do covid19 no entanto OMITEM o nrs de RECUPERADOS jornalnacional BotCoronaV eleicoes2020</td>\n",
       "      <td>38</td>\n",
       "      <td>272</td>\n",
       "      <td>6.184211</td>\n",
       "      <td>4</td>\n",
       "      <td>2</td>\n",
       "      <td>7</td>\n",
       "      <td>0</td>\n",
       "      <td>0</td>\n",
       "      <td>0</td>\n",
       "    </tr>\n",
       "    <tr>\n",
       "      <th>...</th>\n",
       "      <td>...</td>\n",
       "      <td>...</td>\n",
       "      <td>...</td>\n",
       "      <td>...</td>\n",
       "      <td>...</td>\n",
       "      <td>...</td>\n",
       "      <td>...</td>\n",
       "      <td>...</td>\n",
       "      <td>...</td>\n",
       "      <td>...</td>\n",
       "    </tr>\n",
       "    <tr>\n",
       "      <th>995</th>\n",
       "      <td>Seit in Malaysia Flle von COVID19 festgestellt wurden nimmt die Diskriminierung gegen die Minderheit der Rohingya drastisch zu Artikel bei infosperber httpswwwinfosperberchArtikelFreiheitRechtRohingya-Diskriminierung-unter-Vorwand-der-Corona-Bekampfung corona Myanmar</td>\n",
       "      <td>24</td>\n",
       "      <td>285</td>\n",
       "      <td>10.916667</td>\n",
       "      <td>1</td>\n",
       "      <td>6</td>\n",
       "      <td>1</td>\n",
       "      <td>0</td>\n",
       "      <td>0</td>\n",
       "      <td>0</td>\n",
       "    </tr>\n",
       "    <tr>\n",
       "      <th>996</th>\n",
       "      <td>Hej svtagenda svtnyheter Varfr vgrar Ni frga ut politiskt ansv i Stockholm amp RegionStockholm om hant av COVID19 Dvs moderaterna Om Ledarskap Frnvaro av skyddsutrustning Medicinsk kompetens Bortprioritering av sjuka Svpol Skpol Corona</td>\n",
       "      <td>34</td>\n",
       "      <td>258</td>\n",
       "      <td>6.588235</td>\n",
       "      <td>1</td>\n",
       "      <td>6</td>\n",
       "      <td>3</td>\n",
       "      <td>0</td>\n",
       "      <td>0</td>\n",
       "      <td>0</td>\n",
       "    </tr>\n",
       "    <tr>\n",
       "      <th>997</th>\n",
       "      <td>Consider Eating healthy follow the following guide china corona coronaVirus covid19 Wuhan400 httpswwwtrendingleocom202002how-to-stay-safe-from-covid-19-corona-virus</td>\n",
       "      <td>13</td>\n",
       "      <td>178</td>\n",
       "      <td>12.769231</td>\n",
       "      <td>1</td>\n",
       "      <td>5</td>\n",
       "      <td>0</td>\n",
       "      <td>0</td>\n",
       "      <td>0</td>\n",
       "      <td>0</td>\n",
       "    </tr>\n",
       "    <tr>\n",
       "      <th>998</th>\n",
       "      <td>httpswwwnewsweekcomkey-defeating-covid-19-already-exists-we-need-start-using-it-opinion-1519535 mondkapjes coronamaatregelen Corona COVID19 COVIDIDIOTS COVID DoutzenKroes We hebben geen vaccin nodig NIEMAND HEEFT EEN Vaccin NODIGMinPres en Kamerleden Nederland heeft Hydroxychloroquine nodig DUS DOE EINDELIJK IETS nosjournaal NPO</td>\n",
       "      <td>30</td>\n",
       "      <td>353</td>\n",
       "      <td>10.800000</td>\n",
       "      <td>0</td>\n",
       "      <td>12</td>\n",
       "      <td>0</td>\n",
       "      <td>0</td>\n",
       "      <td>0</td>\n",
       "      <td>0</td>\n",
       "    </tr>\n",
       "    <tr>\n",
       "      <th>999</th>\n",
       "      <td>BREAKING 6426 234114 Corona TNCorona COVID19 HinduTamil Chennai Tamilnadu LockDown CoronaStatus</td>\n",
       "      <td>27</td>\n",
       "      <td>225</td>\n",
       "      <td>7.370370</td>\n",
       "      <td>0</td>\n",
       "      <td>10</td>\n",
       "      <td>0</td>\n",
       "      <td>0</td>\n",
       "      <td>0</td>\n",
       "      <td>0</td>\n",
       "    </tr>\n",
       "  </tbody>\n",
       "</table>\n",
       "<p>1000 rows × 10 columns</p>\n",
       "</div>"
      ],
      "text/plain": [
       "                                                                                                                                                                                                                                                                                                                                         tweets  \\\n",
       "0                                                                    Saudi Arabia holds hajj this year with precautions to avoid Corona the most important of which is the social spacing during the hajj Hajj2020 This weather is the rafting around the Kaaba in Mecca Do you remember the photos of the raft before the COVID19 virus spread   \n",
       "1                                                                                                                                                                                     COVID-19 CORONAVIRUS PANDEMIC Global Data Total Cases 17160357 Total Recoverd 10671249 Total Deaths 669066 Corona Covid19 Coronavirus Follow CoronaUpdate   \n",
       "2                                                                                                                                                                                                   1008025 people recovered from Corona today Total Corona virus recoveries 10397084 Source WHO Situation Reports COVID19 coronavirus StaySafe   \n",
       "3                                                                                                                                                                                                                                                                                                    Hes a complete liar COVID19 COVID19 Corona   \n",
       "4                                                                                   VERGONHOSO A imprensa nem por meio de um CONSRCIO formado por g1mundo RedeGlobo folha UOLNoticias SO INCAPAZES de terem TICA Criticam o govbr por omitir informaes do covid19 no entanto OMITEM o nrs de RECUPERADOS jornalnacional BotCoronaV eleicoes2020   \n",
       "..                                                                                                                                                                                                                                                                                                                                          ...   \n",
       "995                                                                 Seit in Malaysia Flle von COVID19 festgestellt wurden nimmt die Diskriminierung gegen die Minderheit der Rohingya drastisch zu Artikel bei infosperber httpswwwinfosperberchArtikelFreiheitRechtRohingya-Diskriminierung-unter-Vorwand-der-Corona-Bekampfung corona Myanmar   \n",
       "996                                                                                                 Hej svtagenda svtnyheter Varfr vgrar Ni frga ut politiskt ansv i Stockholm amp RegionStockholm om hant av COVID19 Dvs moderaterna Om Ledarskap Frnvaro av skyddsutrustning Medicinsk kompetens Bortprioritering av sjuka Svpol Skpol Corona   \n",
       "997                                                                                                                                                                        Consider Eating healthy follow the following guide china corona coronaVirus covid19 Wuhan400 httpswwwtrendingleocom202002how-to-stay-safe-from-covid-19-corona-virus   \n",
       "998  httpswwwnewsweekcomkey-defeating-covid-19-already-exists-we-need-start-using-it-opinion-1519535 mondkapjes coronamaatregelen Corona COVID19 COVIDIDIOTS COVID DoutzenKroes We hebben geen vaccin nodig NIEMAND HEEFT EEN Vaccin NODIGMinPres en Kamerleden Nederland heeft Hydroxychloroquine nodig DUS DOE EINDELIJK IETS nosjournaal NPO   \n",
       "999                                                                                                                                                                                                                                             BREAKING 6426 234114 Corona TNCorona COVID19 HinduTamil Chennai Tamilnadu LockDown CoronaStatus   \n",
       "\n",
       "     word_counts  char_counts  avg_word_len  stop_words_len  hashtags_count  \\\n",
       "0             47          271      4.765957              21               4   \n",
       "1             22          170      6.727273               0               5   \n",
       "2             18          145      7.111111               1               3   \n",
       "3              7           50      6.142857               1               3   \n",
       "4             38          272      6.184211               4               2   \n",
       "..           ...          ...           ...             ...             ...   \n",
       "995           24          285     10.916667               1               6   \n",
       "996           34          258      6.588235               1               6   \n",
       "997           13          178     12.769231               1               5   \n",
       "998           30          353     10.800000               0              12   \n",
       "999           27          225      7.370370               0              10   \n",
       "\n",
       "     mentions_count  numerics_count  emails_count  urls_flag  \n",
       "0                 0               0             0          0  \n",
       "1                 0               0             0          0  \n",
       "2                 0               2             0          0  \n",
       "3                 0               0             0          0  \n",
       "4                 7               0             0          0  \n",
       "..              ...             ...           ...        ...  \n",
       "995               1               0             0          0  \n",
       "996               3               0             0          0  \n",
       "997               0               0             0          0  \n",
       "998               0               0             0          0  \n",
       "999               0               0             0          0  \n",
       "\n",
       "[1000 rows x 10 columns]"
      ]
     },
     "execution_count": 154,
     "metadata": {},
     "output_type": "execute_result"
    }
   ],
   "source": [
    "df"
   ]
  },
  {
   "cell_type": "code",
   "execution_count": 155,
   "metadata": {},
   "outputs": [],
   "source": [
    "from sklearn.feature_extraction.text import CountVectorizer #DTM"
   ]
  },
  {
   "cell_type": "code",
   "execution_count": 157,
   "metadata": {},
   "outputs": [],
   "source": [
    "bag_words = CountVectorizer(analyzer = message_text_process).fit(df['tweets'])"
   ]
  },
  {
   "cell_type": "code",
   "execution_count": 158,
   "metadata": {},
   "outputs": [
    {
     "name": "stdout",
     "output_type": "stream",
     "text": [
      "8057\n"
     ]
    }
   ],
   "source": [
    "print(len(bag_words.vocabulary_))"
   ]
  },
  {
   "cell_type": "code",
   "execution_count": 159,
   "metadata": {},
   "outputs": [
    {
     "data": {
      "text/html": [
       "<div>\n",
       "<style scoped>\n",
       "    .dataframe tbody tr th:only-of-type {\n",
       "        vertical-align: middle;\n",
       "    }\n",
       "\n",
       "    .dataframe tbody tr th {\n",
       "        vertical-align: top;\n",
       "    }\n",
       "\n",
       "    .dataframe thead th {\n",
       "        text-align: right;\n",
       "    }\n",
       "</style>\n",
       "<table border=\"1\" class=\"dataframe\">\n",
       "  <thead>\n",
       "    <tr style=\"text-align: right;\">\n",
       "      <th></th>\n",
       "      <th>tweets</th>\n",
       "      <th>word_counts</th>\n",
       "      <th>char_counts</th>\n",
       "      <th>avg_word_len</th>\n",
       "      <th>stop_words_len</th>\n",
       "      <th>hashtags_count</th>\n",
       "      <th>mentions_count</th>\n",
       "      <th>numerics_count</th>\n",
       "      <th>emails_count</th>\n",
       "      <th>urls_flag</th>\n",
       "    </tr>\n",
       "  </thead>\n",
       "  <tbody>\n",
       "    <tr>\n",
       "      <th>0</th>\n",
       "      <td>Saudi Arabia holds hajj this year with precautions to avoid Corona the most important of which is the social spacing during the hajj Hajj2020 This weather is the rafting around the Kaaba in Mecca Do you remember the photos of the raft before the COVID19 virus spread</td>\n",
       "      <td>47</td>\n",
       "      <td>271</td>\n",
       "      <td>4.765957</td>\n",
       "      <td>21</td>\n",
       "      <td>4</td>\n",
       "      <td>0</td>\n",
       "      <td>0</td>\n",
       "      <td>0</td>\n",
       "      <td>0</td>\n",
       "    </tr>\n",
       "    <tr>\n",
       "      <th>1</th>\n",
       "      <td>COVID-19 CORONAVIRUS PANDEMIC Global Data Total Cases 17160357 Total Recoverd 10671249 Total Deaths 669066 Corona Covid19 Coronavirus Follow CoronaUpdate</td>\n",
       "      <td>22</td>\n",
       "      <td>170</td>\n",
       "      <td>6.727273</td>\n",
       "      <td>0</td>\n",
       "      <td>5</td>\n",
       "      <td>0</td>\n",
       "      <td>0</td>\n",
       "      <td>0</td>\n",
       "      <td>0</td>\n",
       "    </tr>\n",
       "    <tr>\n",
       "      <th>2</th>\n",
       "      <td>1008025 people recovered from Corona today Total Corona virus recoveries 10397084 Source WHO Situation Reports COVID19 coronavirus StaySafe</td>\n",
       "      <td>18</td>\n",
       "      <td>145</td>\n",
       "      <td>7.111111</td>\n",
       "      <td>1</td>\n",
       "      <td>3</td>\n",
       "      <td>0</td>\n",
       "      <td>2</td>\n",
       "      <td>0</td>\n",
       "      <td>0</td>\n",
       "    </tr>\n",
       "    <tr>\n",
       "      <th>3</th>\n",
       "      <td>Hes a complete liar COVID19 COVID19 Corona</td>\n",
       "      <td>7</td>\n",
       "      <td>50</td>\n",
       "      <td>6.142857</td>\n",
       "      <td>1</td>\n",
       "      <td>3</td>\n",
       "      <td>0</td>\n",
       "      <td>0</td>\n",
       "      <td>0</td>\n",
       "      <td>0</td>\n",
       "    </tr>\n",
       "    <tr>\n",
       "      <th>4</th>\n",
       "      <td>VERGONHOSO A imprensa nem por meio de um CONSRCIO formado por g1mundo RedeGlobo folha UOLNoticias SO INCAPAZES de terem TICA Criticam o govbr por omitir informaes do covid19 no entanto OMITEM o nrs de RECUPERADOS jornalnacional BotCoronaV eleicoes2020</td>\n",
       "      <td>38</td>\n",
       "      <td>272</td>\n",
       "      <td>6.184211</td>\n",
       "      <td>4</td>\n",
       "      <td>2</td>\n",
       "      <td>7</td>\n",
       "      <td>0</td>\n",
       "      <td>0</td>\n",
       "      <td>0</td>\n",
       "    </tr>\n",
       "    <tr>\n",
       "      <th>...</th>\n",
       "      <td>...</td>\n",
       "      <td>...</td>\n",
       "      <td>...</td>\n",
       "      <td>...</td>\n",
       "      <td>...</td>\n",
       "      <td>...</td>\n",
       "      <td>...</td>\n",
       "      <td>...</td>\n",
       "      <td>...</td>\n",
       "      <td>...</td>\n",
       "    </tr>\n",
       "    <tr>\n",
       "      <th>995</th>\n",
       "      <td>Seit in Malaysia Flle von COVID19 festgestellt wurden nimmt die Diskriminierung gegen die Minderheit der Rohingya drastisch zu Artikel bei infosperber httpswwwinfosperberchArtikelFreiheitRechtRohingya-Diskriminierung-unter-Vorwand-der-Corona-Bekampfung corona Myanmar</td>\n",
       "      <td>24</td>\n",
       "      <td>285</td>\n",
       "      <td>10.916667</td>\n",
       "      <td>1</td>\n",
       "      <td>6</td>\n",
       "      <td>1</td>\n",
       "      <td>0</td>\n",
       "      <td>0</td>\n",
       "      <td>0</td>\n",
       "    </tr>\n",
       "    <tr>\n",
       "      <th>996</th>\n",
       "      <td>Hej svtagenda svtnyheter Varfr vgrar Ni frga ut politiskt ansv i Stockholm amp RegionStockholm om hant av COVID19 Dvs moderaterna Om Ledarskap Frnvaro av skyddsutrustning Medicinsk kompetens Bortprioritering av sjuka Svpol Skpol Corona</td>\n",
       "      <td>34</td>\n",
       "      <td>258</td>\n",
       "      <td>6.588235</td>\n",
       "      <td>1</td>\n",
       "      <td>6</td>\n",
       "      <td>3</td>\n",
       "      <td>0</td>\n",
       "      <td>0</td>\n",
       "      <td>0</td>\n",
       "    </tr>\n",
       "    <tr>\n",
       "      <th>997</th>\n",
       "      <td>Consider Eating healthy follow the following guide china corona coronaVirus covid19 Wuhan400 httpswwwtrendingleocom202002how-to-stay-safe-from-covid-19-corona-virus</td>\n",
       "      <td>13</td>\n",
       "      <td>178</td>\n",
       "      <td>12.769231</td>\n",
       "      <td>1</td>\n",
       "      <td>5</td>\n",
       "      <td>0</td>\n",
       "      <td>0</td>\n",
       "      <td>0</td>\n",
       "      <td>0</td>\n",
       "    </tr>\n",
       "    <tr>\n",
       "      <th>998</th>\n",
       "      <td>httpswwwnewsweekcomkey-defeating-covid-19-already-exists-we-need-start-using-it-opinion-1519535 mondkapjes coronamaatregelen Corona COVID19 COVIDIDIOTS COVID DoutzenKroes We hebben geen vaccin nodig NIEMAND HEEFT EEN Vaccin NODIGMinPres en Kamerleden Nederland heeft Hydroxychloroquine nodig DUS DOE EINDELIJK IETS nosjournaal NPO</td>\n",
       "      <td>30</td>\n",
       "      <td>353</td>\n",
       "      <td>10.800000</td>\n",
       "      <td>0</td>\n",
       "      <td>12</td>\n",
       "      <td>0</td>\n",
       "      <td>0</td>\n",
       "      <td>0</td>\n",
       "      <td>0</td>\n",
       "    </tr>\n",
       "    <tr>\n",
       "      <th>999</th>\n",
       "      <td>BREAKING 6426 234114 Corona TNCorona COVID19 HinduTamil Chennai Tamilnadu LockDown CoronaStatus</td>\n",
       "      <td>27</td>\n",
       "      <td>225</td>\n",
       "      <td>7.370370</td>\n",
       "      <td>0</td>\n",
       "      <td>10</td>\n",
       "      <td>0</td>\n",
       "      <td>0</td>\n",
       "      <td>0</td>\n",
       "      <td>0</td>\n",
       "    </tr>\n",
       "  </tbody>\n",
       "</table>\n",
       "<p>1000 rows × 10 columns</p>\n",
       "</div>"
      ],
      "text/plain": [
       "                                                                                                                                                                                                                                                                                                                                         tweets  \\\n",
       "0                                                                    Saudi Arabia holds hajj this year with precautions to avoid Corona the most important of which is the social spacing during the hajj Hajj2020 This weather is the rafting around the Kaaba in Mecca Do you remember the photos of the raft before the COVID19 virus spread   \n",
       "1                                                                                                                                                                                     COVID-19 CORONAVIRUS PANDEMIC Global Data Total Cases 17160357 Total Recoverd 10671249 Total Deaths 669066 Corona Covid19 Coronavirus Follow CoronaUpdate   \n",
       "2                                                                                                                                                                                                   1008025 people recovered from Corona today Total Corona virus recoveries 10397084 Source WHO Situation Reports COVID19 coronavirus StaySafe   \n",
       "3                                                                                                                                                                                                                                                                                                    Hes a complete liar COVID19 COVID19 Corona   \n",
       "4                                                                                   VERGONHOSO A imprensa nem por meio de um CONSRCIO formado por g1mundo RedeGlobo folha UOLNoticias SO INCAPAZES de terem TICA Criticam o govbr por omitir informaes do covid19 no entanto OMITEM o nrs de RECUPERADOS jornalnacional BotCoronaV eleicoes2020   \n",
       "..                                                                                                                                                                                                                                                                                                                                          ...   \n",
       "995                                                                 Seit in Malaysia Flle von COVID19 festgestellt wurden nimmt die Diskriminierung gegen die Minderheit der Rohingya drastisch zu Artikel bei infosperber httpswwwinfosperberchArtikelFreiheitRechtRohingya-Diskriminierung-unter-Vorwand-der-Corona-Bekampfung corona Myanmar   \n",
       "996                                                                                                 Hej svtagenda svtnyheter Varfr vgrar Ni frga ut politiskt ansv i Stockholm amp RegionStockholm om hant av COVID19 Dvs moderaterna Om Ledarskap Frnvaro av skyddsutrustning Medicinsk kompetens Bortprioritering av sjuka Svpol Skpol Corona   \n",
       "997                                                                                                                                                                        Consider Eating healthy follow the following guide china corona coronaVirus covid19 Wuhan400 httpswwwtrendingleocom202002how-to-stay-safe-from-covid-19-corona-virus   \n",
       "998  httpswwwnewsweekcomkey-defeating-covid-19-already-exists-we-need-start-using-it-opinion-1519535 mondkapjes coronamaatregelen Corona COVID19 COVIDIDIOTS COVID DoutzenKroes We hebben geen vaccin nodig NIEMAND HEEFT EEN Vaccin NODIGMinPres en Kamerleden Nederland heeft Hydroxychloroquine nodig DUS DOE EINDELIJK IETS nosjournaal NPO   \n",
       "999                                                                                                                                                                                                                                             BREAKING 6426 234114 Corona TNCorona COVID19 HinduTamil Chennai Tamilnadu LockDown CoronaStatus   \n",
       "\n",
       "     word_counts  char_counts  avg_word_len  stop_words_len  hashtags_count  \\\n",
       "0             47          271      4.765957              21               4   \n",
       "1             22          170      6.727273               0               5   \n",
       "2             18          145      7.111111               1               3   \n",
       "3              7           50      6.142857               1               3   \n",
       "4             38          272      6.184211               4               2   \n",
       "..           ...          ...           ...             ...             ...   \n",
       "995           24          285     10.916667               1               6   \n",
       "996           34          258      6.588235               1               6   \n",
       "997           13          178     12.769231               1               5   \n",
       "998           30          353     10.800000               0              12   \n",
       "999           27          225      7.370370               0              10   \n",
       "\n",
       "     mentions_count  numerics_count  emails_count  urls_flag  \n",
       "0                 0               0             0          0  \n",
       "1                 0               0             0          0  \n",
       "2                 0               2             0          0  \n",
       "3                 0               0             0          0  \n",
       "4                 7               0             0          0  \n",
       "..              ...             ...           ...        ...  \n",
       "995               1               0             0          0  \n",
       "996               3               0             0          0  \n",
       "997               0               0             0          0  \n",
       "998               0               0             0          0  \n",
       "999               0               0             0          0  \n",
       "\n",
       "[1000 rows x 10 columns]"
      ]
     },
     "execution_count": 159,
     "metadata": {},
     "output_type": "execute_result"
    }
   ],
   "source": [
    "df"
   ]
  },
  {
   "cell_type": "code",
   "execution_count": null,
   "metadata": {},
   "outputs": [],
   "source": []
  }
 ],
 "metadata": {
  "kernelspec": {
   "display_name": "nlp_one",
   "language": "python",
   "name": "nlp_one"
  },
  "language_info": {
   "codemirror_mode": {
    "name": "ipython",
    "version": 3
   },
   "file_extension": ".py",
   "mimetype": "text/x-python",
   "name": "python",
   "nbconvert_exporter": "python",
   "pygments_lexer": "ipython3",
   "version": "3.8.3"
  }
 },
 "nbformat": 4,
 "nbformat_minor": 2
}
