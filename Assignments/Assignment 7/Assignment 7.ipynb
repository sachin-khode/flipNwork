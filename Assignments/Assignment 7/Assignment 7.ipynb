{
 "cells": [
  {
   "cell_type": "markdown",
   "metadata": {},
   "source": [
    "!pip install gensim"
   ]
  },
  {
   "cell_type": "code",
   "execution_count": 130,
   "metadata": {},
   "outputs": [],
   "source": [
    "import nltk\n",
    "\n",
    "from gensim.models import Word2Vec\n",
    "from nltk.corpus import stopwords\n",
    "import matplotlib.pyplot as plt\n",
    "import re\n",
    "import string\n",
    "from nltk.tokenize import word_tokenize,sent_tokenize\n",
    "from nltk.corpus import stopwords\n",
    "from nltk.stem import WordNetLemmatizer\n",
    "import random \n",
    "import pprint"
   ]
  },
  {
   "cell_type": "markdown",
   "metadata": {},
   "source": [
    "Lets import our text document"
   ]
  },
  {
   "cell_type": "code",
   "execution_count": 16,
   "metadata": {},
   "outputs": [],
   "source": [
    "myfile = open(r\"Assignment 7 Document.txt\")\n",
    "document = myfile.read()"
   ]
  },
  {
   "cell_type": "markdown",
   "metadata": {},
   "source": [
    "#### Preprocessign data"
   ]
  },
  {
   "cell_type": "code",
   "execution_count": 83,
   "metadata": {},
   "outputs": [],
   "source": [
    "#Converting data to lower text\n",
    "\n",
    "document_lower = document.lower()"
   ]
  },
  {
   "cell_type": "code",
   "execution_count": 84,
   "metadata": {},
   "outputs": [],
   "source": [
    "#Replacing numbers with space\n",
    "pattern = '[0-9]'\n",
    "text = re.sub(pattern,'', document_lower)"
   ]
  },
  {
   "cell_type": "code",
   "execution_count": 85,
   "metadata": {},
   "outputs": [],
   "source": [
    "#replacing multiple white spaces with single white space\n",
    "\n",
    "text = re.sub('\\s+',' ',text)"
   ]
  },
  {
   "cell_type": "code",
   "execution_count": 86,
   "metadata": {},
   "outputs": [],
   "source": [
    "clean_text = text.replace('\\n', '')"
   ]
  },
  {
   "cell_type": "code",
   "execution_count": 87,
   "metadata": {
    "scrolled": true
   },
   "outputs": [],
   "source": [
    "#Now we will remove all punctuation from sting\n",
    "\n",
    "punctuations = '!\"#$%&\\'()*+,-/:;<=>?@[\\\\]^_`{|}~'\n",
    "\n",
    "file_cleaned = text.translate(str.maketrans('','',punctuations))"
   ]
  },
  {
   "cell_type": "code",
   "execution_count": 88,
   "metadata": {},
   "outputs": [
    {
     "data": {
      "text/plain": [
       "'i got married when i was to a man that by all accounts wasnt bad but he wasnt good for me. long story short i was married to a loser. he didnt necessarily do anything wrong he just didnt do anything at all. now i am not a typical woman if there even is such a thing. i love myself. sure there are things i want to improve but i dont have a problem with my age or intelligence or what my body looks like or my personality those things that seem to stereotypically plague women just dont bother me for whatever reason. i have a career where i make more than enough money on my own to live comfortably. i know how to use power tools fix my own car and google the shit out of anything else that needs to be done. i say what i mean and expect others to do the same none of this passiveaggressive nonsense. but im stubborn as a mule and marriages are supposed to last so even though i was the primary breadwinner and did most of the things around the house and raised my kids mostly on my own i still spent years in that worthless marriage. at the end of the day my husband felt like i didnt need him because i am very capable. but he was wrong. i needed support. i needed a partner a friend. even someone who would see how hard i was working to just keep my head above water. i couldnt manage everything on my own and i still cant. for some perspective at how emotionally isolated i was i struggled with infertility for three years i had to take tons of medications  shots that made me sick tired have hot flashes body aches and migraines for those years not to mention the emotional drain of every month without fail seeing a single pink line on that damn stick. the emotion of going through a bulk pack of pregnancy tests or taking photos of your cousins childs first birthday for the child they conceived after you started trying is just... a lot to bear i was very open with my struggles because i think it helped other people too. somehow my husband wasnt even aware this was a thing that i was needing support in. he had no idea. and its not because i didnt tell him or directly ask him. he just was that thick and lost. he was a five year old trapped as an adult lacking the ability to give support in that way. and once i had kids he was actually more of a burden than a help. i spent most of my time walking on eggshells trying to balance being exhausted from a highdemand job making dinner and praying the kids who are allaround good kids didnt do anything to poke the bear while my husband played games on his phone and mostly ignored them. i spent more time trying to keep them from upsetting him than anything else. when i finally asked him to please leave everything improved immediately. i could breathe again. i was free of so much dead weight. i was so so happy to just nothavehim around. it was so much better i never looked back and i was ok on my own. sure i crawled in to bed every night feeling ready to collapse at the end of the day. kids are demanding after all. but i was free. and i was happy. but it wears on you. i have an unfair amount of help in my life. i have a six figure salary and live well within my means. i have family that watches my children when i need. i have amazing neighbors and a church family that pitches in often whenever i need a hand and still i had many many days where i was so tired from thinking all day coming home to my screaming year old and my year old yammering about a tv show and the dog yapping at the door and the cat under my feet crying and its so much. everything needs me all the time. notice i didnt say want. they needed me. feeling needed is great but most days i was a mostly empty cup that was trying to wring out every last drop to pour into my little family and there simply wasnt enough to go around. did i ever think of dating lol no. who has time for that i sure didnt. i was busy enough and i clearly was ok on my own. besides who would want to date a woman who had little kids and was by all accounts completely independent and very successful i was sure as hell not ever looking to date for fun aint nobody got time fo dat not to mention im not going to go out of my way to meet anyone my standards were way high after my ex and again thats just time i dont have for something i didnt see any particular need for. so thats when god said hold my beer and cracked his knuckles. he was an intern that summer an absolutely brilliant one. good looking hard working personable did crazy things like fix his own car and budget. but there was an over year age gap and there surely wasnt a chance in hell this guy would want to chill out with much older me and my kids in our simple suburban lives. summer flew by and before i knew it he was gone back to school. but he happened to be back for the weekend and much to our mutual surprise he kissed me... and weve been a thing ever since. oh. my. god. if i knew this was what healthy relationships were... yall. i cant even with this guy. he uses his words to tell me what hes thinking and feeling even if he is pretty sure im not gonna like it. you guys. i dont have to guess what hes thinking he just tells me what a gift... he budgets he watches his money. this man is years old and has a credit score over  i can talk to him for an entire day about deep stuff like existential things or science movies tv shows or books with actual plot lines and not just explosions. he asks me about my day every day and when i tell him he actually remembers and cares. i dont have a single fuck to give about getting flowers or jewelry or any of that other crap i just want a companion ya know so for valentines day he flooded my inboxes on every possible channel he has to contact me with everything he could think of to make me smile memes sweet love notes pictures of cats whatever. the first time i went to his apartment hes got several roommates i was dead tired from the day and pretty much passed out on his bed. i woke up like  hours later and was talking with one of his roommates and found out that he had gone around to all the doors close by and wdd them while i slept to make sure the squeaking didnt wake me up. he cleans up. he cooks he wants to try new things and do new things. he is appreciative omg you guys he actually says things like wow this dinner is amazing thank you so much for cooking or wow you are really good at x that is so cool get this you guys this is crazy. there was this one day i had gone pretty far out of my way to do him a favor very happily but he was weirdly short when i got there to deliver the items to him. very uncharacteristic. after i left i was thinking i should probably call and tell him i didnt appreciate that very much but was everything ok when the phone rang. he was calling to apologize for being so short with me he realized after i left he was being rude and he was very very appreciative. this man owned his mistake and apologized immediately what. is. this shut the front door and he calls me on my bullshit. god i love that. if im being ridiculous i want to know it and he tells me he does not let me get away with it. and damned if hes not the same way i dont even know how to handle a mature adult... its so wonderfullll he leaned in to the kids thing. last week he came over for dinner. my four year old was in a special mood. usually shes the spunkiest kid around but she was being a gradea turd that night. i was already about to breakdown when he got there with some of the dinner food. he took one look at me gave me a quick hug and said hed take my daughter out in the back yard for a minute if that was ok... ok hell yes please take it and he took the dog too. are you kidding me i can cook dinner without things yapping at me i about cried. he came in after a few minutes and asked me if i was ok and what he could do to help. i was still pretty frazzled and just muttered yeah im frazzled i dont really even know... he just gave me a long hug and said he was there for me and itd be ok. gave me a peck on the forehead and took off to play with the kids again outside. then he brought them in and got them to help set the table. he did everything i have never in my entire adult life gotten to sit down for dinner while everyone else gets the table set and food ready and drinks and etc. after dinner he made a point of telling the kids he couldnt play till he helped me clean up. and by helped he meant do everything for me. i literally didnt know what to do with myself you guys. i didnt have anything to do... it was... so... nice. i tell my man all the time how appreciative i am of him and he feels uncomfortable about it because he doesnt think hes doing anything special. guys he thinks this is normal and everyone is like that. what false. these men are few and far between from what ive seen. the craziest thing to me here is he wants me. he. wants. me. what in the ever living hell is wrong with this man he is in his senior year of college he could do anything he wants the world is his oyster. oh sure he could have tumblrd his way through a gazillion hot college girls his own age that werent longdistance that didnt have kids but no. he picked me. me with my baggage and my kids and my stretch marks and my sarcasm for days. me that is hard headed and opinionated and can barely hold it together every day. i dont know what i did to get this guy but im sure as hell gonna do everything i can to make him as happy as he makes me every day. my heart didnt even know i needed him...'"
      ]
     },
     "execution_count": 88,
     "metadata": {},
     "output_type": "execute_result"
    }
   ],
   "source": [
    "file_cleaned"
   ]
  },
  {
   "cell_type": "markdown",
   "metadata": {},
   "source": [
    "Here we can see in our text we are having double dots, so lets remove dots"
   ]
  },
  {
   "cell_type": "code",
   "execution_count": 89,
   "metadata": {},
   "outputs": [],
   "source": [
    "punctuations = '..'\n",
    "\n",
    "file_cleaned = file_cleaned.replace('..', '')"
   ]
  },
  {
   "cell_type": "code",
   "execution_count": 90,
   "metadata": {},
   "outputs": [
    {
     "data": {
      "text/plain": [
       "'i got married when i was to a man that by all accounts wasnt bad but he wasnt good for me. long story short i was married to a loser. he didnt necessarily do anything wrong he just didnt do anything at all. now i am not a typical woman if there even is such a thing. i love myself. sure there are things i want to improve but i dont have a problem with my age or intelligence or what my body looks like or my personality those things that seem to stereotypically plague women just dont bother me for whatever reason. i have a career where i make more than enough money on my own to live comfortably. i know how to use power tools fix my own car and google the shit out of anything else that needs to be done. i say what i mean and expect others to do the same none of this passiveaggressive nonsense. but im stubborn as a mule and marriages are supposed to last so even though i was the primary breadwinner and did most of the things around the house and raised my kids mostly on my own i still spent years in that worthless marriage. at the end of the day my husband felt like i didnt need him because i am very capable. but he was wrong. i needed support. i needed a partner a friend. even someone who would see how hard i was working to just keep my head above water. i couldnt manage everything on my own and i still cant. for some perspective at how emotionally isolated i was i struggled with infertility for three years i had to take tons of medications  shots that made me sick tired have hot flashes body aches and migraines for those years not to mention the emotional drain of every month without fail seeing a single pink line on that damn stick. the emotion of going through a bulk pack of pregnancy tests or taking photos of your cousins childs first birthday for the child they conceived after you started trying is just. a lot to bear i was very open with my struggles because i think it helped other people too. somehow my husband wasnt even aware this was a thing that i was needing support in. he had no idea. and its not because i didnt tell him or directly ask him. he just was that thick and lost. he was a five year old trapped as an adult lacking the ability to give support in that way. and once i had kids he was actually more of a burden than a help. i spent most of my time walking on eggshells trying to balance being exhausted from a highdemand job making dinner and praying the kids who are allaround good kids didnt do anything to poke the bear while my husband played games on his phone and mostly ignored them. i spent more time trying to keep them from upsetting him than anything else. when i finally asked him to please leave everything improved immediately. i could breathe again. i was free of so much dead weight. i was so so happy to just nothavehim around. it was so much better i never looked back and i was ok on my own. sure i crawled in to bed every night feeling ready to collapse at the end of the day. kids are demanding after all. but i was free. and i was happy. but it wears on you. i have an unfair amount of help in my life. i have a six figure salary and live well within my means. i have family that watches my children when i need. i have amazing neighbors and a church family that pitches in often whenever i need a hand and still i had many many days where i was so tired from thinking all day coming home to my screaming year old and my year old yammering about a tv show and the dog yapping at the door and the cat under my feet crying and its so much. everything needs me all the time. notice i didnt say want. they needed me. feeling needed is great but most days i was a mostly empty cup that was trying to wring out every last drop to pour into my little family and there simply wasnt enough to go around. did i ever think of dating lol no. who has time for that i sure didnt. i was busy enough and i clearly was ok on my own. besides who would want to date a woman who had little kids and was by all accounts completely independent and very successful i was sure as hell not ever looking to date for fun aint nobody got time fo dat not to mention im not going to go out of my way to meet anyone my standards were way high after my ex and again thats just time i dont have for something i didnt see any particular need for. so thats when god said hold my beer and cracked his knuckles. he was an intern that summer an absolutely brilliant one. good looking hard working personable did crazy things like fix his own car and budget. but there was an over year age gap and there surely wasnt a chance in hell this guy would want to chill out with much older me and my kids in our simple suburban lives. summer flew by and before i knew it he was gone back to school. but he happened to be back for the weekend and much to our mutual surprise he kissed me. and weve been a thing ever since. oh. my. god. if i knew this was what healthy relationships were. yall. i cant even with this guy. he uses his words to tell me what hes thinking and feeling even if he is pretty sure im not gonna like it. you guys. i dont have to guess what hes thinking he just tells me what a gift. he budgets he watches his money. this man is years old and has a credit score over  i can talk to him for an entire day about deep stuff like existential things or science movies tv shows or books with actual plot lines and not just explosions. he asks me about my day every day and when i tell him he actually remembers and cares. i dont have a single fuck to give about getting flowers or jewelry or any of that other crap i just want a companion ya know so for valentines day he flooded my inboxes on every possible channel he has to contact me with everything he could think of to make me smile memes sweet love notes pictures of cats whatever. the first time i went to his apartment hes got several roommates i was dead tired from the day and pretty much passed out on his bed. i woke up like  hours later and was talking with one of his roommates and found out that he had gone around to all the doors close by and wdd them while i slept to make sure the squeaking didnt wake me up. he cleans up. he cooks he wants to try new things and do new things. he is appreciative omg you guys he actually says things like wow this dinner is amazing thank you so much for cooking or wow you are really good at x that is so cool get this you guys this is crazy. there was this one day i had gone pretty far out of my way to do him a favor very happily but he was weirdly short when i got there to deliver the items to him. very uncharacteristic. after i left i was thinking i should probably call and tell him i didnt appreciate that very much but was everything ok when the phone rang. he was calling to apologize for being so short with me he realized after i left he was being rude and he was very very appreciative. this man owned his mistake and apologized immediately what. is. this shut the front door and he calls me on my bullshit. god i love that. if im being ridiculous i want to know it and he tells me he does not let me get away with it. and damned if hes not the same way i dont even know how to handle a mature adult. its so wonderfullll he leaned in to the kids thing. last week he came over for dinner. my four year old was in a special mood. usually shes the spunkiest kid around but she was being a gradea turd that night. i was already about to breakdown when he got there with some of the dinner food. he took one look at me gave me a quick hug and said hed take my daughter out in the back yard for a minute if that was ok. ok hell yes please take it and he took the dog too. are you kidding me i can cook dinner without things yapping at me i about cried. he came in after a few minutes and asked me if i was ok and what he could do to help. i was still pretty frazzled and just muttered yeah im frazzled i dont really even know. he just gave me a long hug and said he was there for me and itd be ok. gave me a peck on the forehead and took off to play with the kids again outside. then he brought them in and got them to help set the table. he did everything i have never in my entire adult life gotten to sit down for dinner while everyone else gets the table set and food ready and drinks and etc. after dinner he made a point of telling the kids he couldnt play till he helped me clean up. and by helped he meant do everything for me. i literally didnt know what to do with myself you guys. i didnt have anything to do. it was. so. nice. i tell my man all the time how appreciative i am of him and he feels uncomfortable about it because he doesnt think hes doing anything special. guys he thinks this is normal and everyone is like that. what false. these men are few and far between from what ive seen. the craziest thing to me here is he wants me. he. wants. me. what in the ever living hell is wrong with this man he is in his senior year of college he could do anything he wants the world is his oyster. oh sure he could have tumblrd his way through a gazillion hot college girls his own age that werent longdistance that didnt have kids but no. he picked me. me with my baggage and my kids and my stretch marks and my sarcasm for days. me that is hard headed and opinionated and can barely hold it together every day. i dont know what i did to get this guy but im sure as hell gonna do everything i can to make him as happy as he makes me every day. my heart didnt even know i needed him.'"
      ]
     },
     "execution_count": 90,
     "metadata": {},
     "output_type": "execute_result"
    }
   ],
   "source": [
    "file_cleaned"
   ]
  },
  {
   "cell_type": "code",
   "execution_count": 92,
   "metadata": {},
   "outputs": [],
   "source": [
    "#Now lets convert out string to token\n",
    "\n",
    "sentences = sent_tokenize(file_cleaned)"
   ]
  },
  {
   "cell_type": "code",
   "execution_count": 94,
   "metadata": {},
   "outputs": [],
   "source": [
    "#Now converting into word token\n",
    "\n",
    "tokenize_word = [word_tokenize(sentence) for sentence in sentences]"
   ]
  },
  {
   "cell_type": "code",
   "execution_count": 97,
   "metadata": {},
   "outputs": [],
   "source": [
    "#Now lets remove stopwords from out data\n",
    "\n",
    "for i in range(len(tokenize_word)):\n",
    "    tokenize_word[i] = [word for word in tokenize_word[i] if word not in stopwords.words()]"
   ]
  },
  {
   "cell_type": "code",
   "execution_count": 116,
   "metadata": {},
   "outputs": [],
   "source": [
    "# Training the Word2Vec model\n",
    "model = Word2Vec(tokenize_word, min_count=1)\n",
    "\n",
    "words = model.wv.vocab"
   ]
  },
  {
   "cell_type": "code",
   "execution_count": 136,
   "metadata": {
    "scrolled": false
   },
   "outputs": [
    {
     "name": "stdout",
     "output_type": "stream",
     "text": [
      "Top 5 similar words for token =  wrong\n",
      "\n",
      "[   ('need', 0.2976277768611908),\n",
      "    ('literally', 0.27023783326148987),\n",
      "    ('played', 0.25629371404647827),\n",
      "    ('actual', 0.24841740727424622),\n",
      "    ('supposed', 0.23826253414154053)]\n",
      "----------------------------------------------------\n",
      "Top 5 similar words for token =  upsetting\n",
      "\n",
      "[   ('crap', 0.29156947135925293),\n",
      "    ('problem', 0.25668972730636597),\n",
      "    ('simple', 0.24369414150714874),\n",
      "    ('partner', 0.2376573383808136),\n",
      "    ('bear', 0.22204408049583435)]\n",
      "----------------------------------------------------\n",
      "Top 5 similar words for token =  lost\n",
      "\n",
      "[   ('neighbors', 0.32645025849342346),\n",
      "    ('turd', 0.3212553560733795),\n",
      "    ('nonsense', 0.28194156289100647),\n",
      "    ('left', 0.2626723051071167),\n",
      "    ('well', 0.24009980261325836)]\n",
      "----------------------------------------------------\n",
      "Top 5 similar words for token =  leave\n",
      "\n",
      "[   ('needing', 0.3472345769405365),\n",
      "    ('ive', 0.2782272398471832),\n",
      "    ('friend', 0.2731744050979614),\n",
      "    ('pictures', 0.2671986222267151),\n",
      "    ('never', 0.26153063774108887)]\n",
      "----------------------------------------------------\n",
      "Top 5 similar words for token =  trapped\n",
      "\n",
      "[   ('every', 0.3407827615737915),\n",
      "    ('sarcasm', 0.2867869734764099),\n",
      "    ('relationships', 0.28390273451805115),\n",
      "    ('lives', 0.2645910978317261),\n",
      "    ('ive', 0.24858292937278748)]\n",
      "----------------------------------------------------\n",
      "Top 5 similar words for token =  plot\n",
      "\n",
      "[   ('perspective', 0.25387123227119446),\n",
      "    ('says', 0.25108063220977783),\n",
      "    ('suburban', 0.23930209875106812),\n",
      "    ('making', 0.23658527433872223),\n",
      "    ('every', 0.2363298237323761)]\n",
      "----------------------------------------------------\n",
      "Top 5 similar words for token =  needing\n",
      "\n",
      "[   ('leave', 0.3472345471382141),\n",
      "    ('within', 0.2894238829612732),\n",
      "    ('around', 0.2824211120605469),\n",
      "    ('short', 0.2650555670261383),\n",
      "    ('weve', 0.25193583965301514)]\n",
      "----------------------------------------------------\n",
      "Top 5 similar words for token =  itd\n",
      "\n",
      "[   ('dinner', 0.23410539329051971),\n",
      "    ('asked', 0.23158933222293854),\n",
      "    ('fuck', 0.23019945621490479),\n",
      "    ('stereotypically', 0.22753138840198517),\n",
      "    ('much', 0.22283124923706055)]\n",
      "----------------------------------------------------\n",
      "Top 5 similar words for token =  table\n",
      "\n",
      "[   ('score', 0.31942853331565857),\n",
      "    ('smile', 0.25642508268356323),\n",
      "    ('year', 0.2538699507713318),\n",
      "    ('longdistance', 0.2284587025642395),\n",
      "    ('girls', 0.2259809523820877)]\n",
      "----------------------------------------------------\n",
      "Top 5 similar words for token =  poke\n",
      "\n",
      "[   ('doesnt', 0.26346898078918457),\n",
      "    ('spent', 0.2451898157596588),\n",
      "    ('asked', 0.24265719950199127),\n",
      "    ('several', 0.24212034046649933),\n",
      "    ('yeah', 0.23257149755954742)]\n",
      "----------------------------------------------------\n",
      "Top 5 similar words for token =  science\n",
      "\n",
      "[   ('rang', 0.3491537272930145),\n",
      "    ('date', 0.2862713932991028),\n",
      "    ('story', 0.2635182738304138),\n",
      "    ('reason', 0.2233322262763977),\n",
      "    ('guy', 0.22203980386257172)]\n",
      "----------------------------------------------------\n",
      "Top 5 similar words for token =  phone\n",
      "\n",
      "[   ('say', 0.3324902355670929),\n",
      "    ('thinking', 0.2674538493156433),\n",
      "    ('enough', 0.2633798122406006),\n",
      "    ('partner', 0.2541305422782898),\n",
      "    ('needing', 0.2508609890937805)]\n",
      "----------------------------------------------------\n",
      "Top 5 similar words for token =  cares\n",
      "\n",
      "[   ('women', 0.2779262363910675),\n",
      "    ('idea', 0.26001617312431335),\n",
      "    ('cracked', 0.2546842396259308),\n",
      "    ('oyster', 0.2531020939350128),\n",
      "    ('relationships', 0.24784524738788605)]\n",
      "----------------------------------------------------\n",
      "Top 5 similar words for token =  aware\n",
      "\n",
      "[   ('family', 0.3411121368408203),\n",
      "    ('aches', 0.30299025774002075),\n",
      "    ('cook', 0.2450069636106491),\n",
      "    ('close', 0.23930902779102325),\n",
      "    ('look', 0.23679295182228088)]\n",
      "----------------------------------------------------\n",
      "Top 5 similar words for token =  amazing\n",
      "\n",
      "[   ('struggles', 0.33680349588394165),\n",
      "    ('several', 0.32790607213974),\n",
      "    ('dating', 0.3085722327232361),\n",
      "    ('explosions', 0.2804107069969177),\n",
      "    ('good', 0.26168695092201233)]\n",
      "----------------------------------------------------\n",
      "Top 5 similar words for token =  woman\n",
      "\n",
      "[   ('shows', 0.3087815046310425),\n",
      "    ('struggles', 0.26610267162323),\n",
      "    ('heart', 0.260963499546051),\n",
      "    ('clean', 0.2520551085472107),\n",
      "    ('career', 0.24975019693374634)]\n",
      "----------------------------------------------------\n",
      "Top 5 similar words for token =  flooded\n",
      "\n",
      "[   ('school', 0.28500956296920776),\n",
      "    ('nothavehim', 0.2750178873538971),\n",
      "    ('standards', 0.246328204870224),\n",
      "    ('week', 0.24504077434539795),\n",
      "    ('expect', 0.24379000067710876)]\n",
      "----------------------------------------------------\n",
      "Top 5 similar words for token =  looking\n",
      "\n",
      "[   ('unfair', 0.2598835527896881),\n",
      "    ('brilliant', 0.2471919059753418),\n",
      "    ('passiveaggressive', 0.24377524852752686),\n",
      "    ('busy', 0.23432284593582153),\n",
      "    ('ask', 0.23379212617874146)]\n",
      "----------------------------------------------------\n",
      "Top 5 similar words for token =  back\n",
      "\n",
      "[   ('woke', 0.25634023547172546),\n",
      "    ('support', 0.2503123879432678),\n",
      "    ('budgets', 0.24354466795921326),\n",
      "    ('three', 0.23348337411880493),\n",
      "    ('shut', 0.22975999116897583)]\n",
      "----------------------------------------------------\n",
      "Top 5 similar words for token =  cook\n",
      "\n",
      "[   ('aware', 0.2450069785118103),\n",
      "    ('way', 0.24243074655532837),\n",
      "    ('food', 0.2383439838886261),\n",
      "    ('thinking', 0.2183855175971985),\n",
      "    ('month', 0.21387480199337006)]\n",
      "----------------------------------------------------\n",
      "Top 5 similar words for token =  channel\n",
      "\n",
      "[   ('gazillion', 0.30194684863090515),\n",
      "    ('helped', 0.2546425461769104),\n",
      "    ('contact', 0.24913595616817474),\n",
      "    ('stretch', 0.24454760551452637),\n",
      "    ('lives', 0.23458029329776764)]\n",
      "----------------------------------------------------\n"
     ]
    }
   ],
   "source": [
    "#Here we are displaying 5 most similar words for 20 random tokens\n",
    "\n",
    "\n",
    "pp = pprint.PrettyPrinter(indent=4)\n",
    "\n",
    "for i in range(21):\n",
    "    key, val = random.choice(list(words.items())) \n",
    "    similar_words = model.wv.most_similar(key,topn=5)\n",
    "    print(\"Top 5 similar words for token = \",key)\n",
    "    print(\"\")\n",
    "    pp.pprint(similar_words)\n",
    "    print(\"----------------------------------------------------\")"
   ]
  },
  {
   "cell_type": "markdown",
   "metadata": {},
   "source": [
    "#Now lets Plot 2D graph to see words similarity of at least 20 words\n",
    "\n"
   ]
  },
  {
   "cell_type": "code",
   "execution_count": 168,
   "metadata": {},
   "outputs": [],
   "source": [
    "#Getting random 20 words from dictionary\n",
    "\n",
    "vocab = []\n",
    "\n",
    "for i in range(21):\n",
    "    key, val = random.choice(list(words.items())) \n",
    "    vocab.append(key)"
   ]
  },
  {
   "cell_type": "code",
   "execution_count": 169,
   "metadata": {
    "scrolled": false
   },
   "outputs": [
    {
     "data": {
      "text/plain": [
       "['woke',\n",
       " 'childs',\n",
       " 'struggles',\n",
       " 'say',\n",
       " 'live',\n",
       " 'false',\n",
       " 'thick',\n",
       " 'emotionally',\n",
       " 'apologized',\n",
       " 'literally',\n",
       " 'gave',\n",
       " 'home',\n",
       " 'kissed',\n",
       " 'family',\n",
       " 'lot',\n",
       " 'set',\n",
       " 'ridiculous',\n",
       " 'get',\n",
       " 'empty',\n",
       " 'wrong',\n",
       " 'whatever']"
      ]
     },
     "execution_count": 169,
     "metadata": {},
     "output_type": "execute_result"
    }
   ],
   "source": [
    "vocab"
   ]
  },
  {
   "cell_type": "code",
   "execution_count": 170,
   "metadata": {},
   "outputs": [
    {
     "name": "stderr",
     "output_type": "stream",
     "text": [
      "C:\\Users\\Lenovo\\Anaconda3\\lib\\site-packages\\ipykernel_launcher.py:9: DeprecationWarning: Call to deprecated `__getitem__` (Method will be removed in 4.0.0, use self.wv.__getitem__() instead).\n",
      "  if __name__ == '__main__':\n"
     ]
    },
    {
     "data": {
      "image/png": "[encoded data removed]",
      "text/plain": [
       "<Figure size 1080x576 with 1 Axes>"
      ]
     },
     "metadata": {
      "needs_background": "light"
     },
     "output_type": "display_data"
    }
   ],
   "source": [
    "#Now lets plot 2D graph\n",
    "\n",
    "from sklearn.manifold import  TSNE\n",
    "def tsne_plot(model,vocab):\n",
    "    labels = []\n",
    "    wordvecs = []\n",
    "\n",
    "    for word in vocab:\n",
    "        wordvecs.append(model[word])\n",
    "        labels.append(word)\n",
    "    \n",
    "    tsne_model = TSNE(perplexity=3, n_components=3, init='pca', random_state=42)\n",
    "    coordinates = tsne_model.fit_transform(wordvecs)\n",
    "\n",
    "    x = []\n",
    "    y = []\n",
    "    for value in coordinates:\n",
    "        x.append(value[0])\n",
    "        y.append(value[1])\n",
    "        \n",
    "    plt.figure(figsize=(15,8)) \n",
    "    for i in range(len(x)):\n",
    "        plt.scatter(x[i],y[i])\n",
    "        plt.annotate(labels[i],\n",
    "                     xy=(x[i], y[i]),\n",
    "                     xytext=(2, 2),\n",
    "                     textcoords='offset points', ha='left')\n",
    "\n",
    "    plt.show()\n",
    "\n",
    "tsne_plot(model,vocab)"
   ]
  },
  {
   "cell_type": "markdown",
   "metadata": {},
   "source": [
    "Here we can see similarity of words with each other, kissed is near to gave, wrong is very similar to family and apologized. Struggles and childs"
   ]
  },
  {
   "cell_type": "code",
   "execution_count": 171,
   "metadata": {},
   "outputs": [],
   "source": [
    "#Creating a new vocab manually\n",
    "\n",
    "vocab = ['married','story','woman','love','age','intelligence','body','career','money','power','stubborn','house','kids','husband','friend','struggled','emotional','pregnancy','crazy','brilliant']"
   ]
  },
  {
   "cell_type": "code",
   "execution_count": 172,
   "metadata": {},
   "outputs": [
    {
     "data": {
      "text/plain": [
       "20"
      ]
     },
     "execution_count": 172,
     "metadata": {},
     "output_type": "execute_result"
    }
   ],
   "source": [
    "len(vocab)"
   ]
  },
  {
   "cell_type": "code",
   "execution_count": 173,
   "metadata": {},
   "outputs": [
    {
     "name": "stderr",
     "output_type": "stream",
     "text": [
      "C:\\Users\\Lenovo\\Anaconda3\\lib\\site-packages\\ipykernel_launcher.py:9: DeprecationWarning: Call to deprecated `__getitem__` (Method will be removed in 4.0.0, use self.wv.__getitem__() instead).\n",
      "  if __name__ == '__main__':\n"
     ]
    },
    {
     "data": {
      "image/png": "[encoded data removed]",
      "text/plain": [
       "<Figure size 1080x576 with 1 Axes>"
      ]
     },
     "metadata": {
      "needs_background": "light"
     },
     "output_type": "display_data"
    }
   ],
   "source": [
    "tsne_plot(model,vocab)"
   ]
  }
 ],
 "metadata": {
  "kernelspec": {
   "display_name": "Python 3",
   "language": "python",
   "name": "python3"
  },
  "language_info": {
   "codemirror_mode": {
    "name": "ipython",
    "version": 3
   },
   "file_extension": ".py",
   "mimetype": "text/x-python",
   "name": "python",
   "nbconvert_exporter": "python",
   "pygments_lexer": "ipython3",
   "version": "3.7.4"
  }
 },
 "nbformat": 4,
 "nbformat_minor": 2
}
