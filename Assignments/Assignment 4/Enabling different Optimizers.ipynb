{
 "cells": [
  {
   "cell_type": "code",
   "execution_count": 1,
   "metadata": {},
   "outputs": [],
   "source": [
    "import tensorflow as tf\n",
    "from tensorflow.keras.preprocessing import image\n",
    "from tensorflow.keras.preprocessing.image import ImageDataGenerator\n",
    "from tensorflow.keras.optimizers import RMSprop,Adam\n",
    "import matplotlib.pyplot as plt\n",
    "import numpy as np\n",
    "import cv2\n",
    "import os\n",
    "from tensorflow.python.keras.models import Sequential\n",
    "import tensorflow as tf\n",
    "from tensorflow.python.keras.layers import Dense,Conv2D,Flatten,MaxPooling2D,Dropout,Activation"
   ]
  },
  {
   "cell_type": "code",
   "execution_count": 2,
   "metadata": {},
   "outputs": [],
   "source": [
    "datadir=\"/home/sk-ji/Cont_ent/FlipNwork/Assignments/Assign_4/image_data/train\"\n",
    "categories=[\"Jeans\",\"Trouser\"]\n",
    "\n",
    "IMG_SIZE=200"
   ]
  },
  {
   "cell_type": "code",
   "execution_count": 3,
   "metadata": {},
   "outputs": [],
   "source": [
    "#creating our training data for model training and also normalize the data for further processing.\n",
    "training_data=[]\n",
    "\n",
    "def create_training_data():\n",
    "    for category in categories:\n",
    "        path=os.path.join(datadir,category)\n",
    "        class_num=categories.index(category)\n",
    "        for img in os.listdir(path):\n",
    "            try:\n",
    "                \n",
    "                img_array=cv2.imread(os.path.join(path,img),cv2.IMREAD_GRAYSCALE)\n",
    "                new_array=cv2.resize(img_array,(IMG_SIZE,IMG_SIZE))\n",
    "                training_data.append([new_array,class_num])\n",
    "            except Exception as e:\n",
    "                pass\n",
    "create_training_data()\n",
    " \n",
    "    "
   ]
  },
  {
   "cell_type": "code",
   "execution_count": 4,
   "metadata": {},
   "outputs": [],
   "source": [
    "data_dir=\"/home/sk-ji/Cont_ent/FlipNwork/Assignments/Assign_4/image_data/validation\"\n",
    "categories=[\"Jeans\",\"Trouser\"]\n"
   ]
  },
  {
   "cell_type": "code",
   "execution_count": 5,
   "metadata": {},
   "outputs": [],
   "source": [
    "#creating our training data for model training and also normalize the data for further processing.\n",
    "validation_data=[]\n",
    "\n",
    "def create_validation_data():\n",
    "    for category in categories:\n",
    "        path=os.path.join(data_dir,category)\n",
    "        class_num=categories.index(category)\n",
    "        for img in os.listdir(path):\n",
    "            try:\n",
    "                \n",
    "                img_array=cv2.imread(os.path.join(path,img),cv2.IMREAD_GRAYSCALE)\n",
    "                new_array=cv2.resize(img_array,(IMG_SIZE,IMG_SIZE))\n",
    "                validation_data.append([new_array,class_num])\n",
    "            except Exception as e:\n",
    "                pass\n",
    "create_validation_data()\n",
    " \n",
    "    "
   ]
  },
  {
   "cell_type": "code",
   "execution_count": null,
   "metadata": {},
   "outputs": [],
   "source": []
  },
  {
   "cell_type": "code",
   "execution_count": 6,
   "metadata": {},
   "outputs": [],
   "source": [
    "#from preventing the overfitting and underfitting we have to shuffle the data \n",
    "import random\n",
    "random.shuffle(training_data)"
   ]
  },
  {
   "cell_type": "code",
   "execution_count": 7,
   "metadata": {},
   "outputs": [],
   "source": [
    "x_train=[]\n",
    "y_train=[]"
   ]
  },
  {
   "cell_type": "code",
   "execution_count": 8,
   "metadata": {},
   "outputs": [],
   "source": [
    "#making x and y for training the model\n",
    "for features,label in training_data:\n",
    "    x_train.append(features)\n",
    "    y_train.append(label)"
   ]
  },
  {
   "cell_type": "code",
   "execution_count": 9,
   "metadata": {},
   "outputs": [],
   "source": [
    "x_validation=[]\n",
    "y_validation=[]"
   ]
  },
  {
   "cell_type": "code",
   "execution_count": 10,
   "metadata": {},
   "outputs": [],
   "source": [
    "#making x and y for training the model\n",
    "for features,label in validation_data:\n",
    "    x_validation.append(features)\n",
    "    y_validation.append(label)"
   ]
  },
  {
   "cell_type": "code",
   "execution_count": 11,
   "metadata": {},
   "outputs": [],
   "source": [
    "x_train=np.array(x_train)\n",
    "x_validation=np.array(x_validation)"
   ]
  },
  {
   "cell_type": "code",
   "execution_count": 12,
   "metadata": {},
   "outputs": [],
   "source": [
    "x_train=x_train.reshape(x_train.shape[0],IMG_SIZE,IMG_SIZE,1)\n",
    "x_validation=x_validation.reshape(x_validation.shape[0],IMG_SIZE,IMG_SIZE,1)"
   ]
  },
  {
   "cell_type": "code",
   "execution_count": 13,
   "metadata": {},
   "outputs": [],
   "source": [
    "x_train=x_train.astype('float32')\n",
    "x_validation=x_validation.astype('float32')"
   ]
  },
  {
   "cell_type": "code",
   "execution_count": 14,
   "metadata": {},
   "outputs": [],
   "source": [
    "x_train=x_train/255\n",
    "x_validation=x_validation/255"
   ]
  },
  {
   "cell_type": "code",
   "execution_count": 15,
   "metadata": {},
   "outputs": [],
   "source": [
    "num_class=2\n",
    "y_train=tf.keras.utils.to_categorical(y_train,num_class)\n",
    "y_validation=tf.keras.utils.to_categorical(y_validation,num_class)"
   ]
  },
  {
   "cell_type": "code",
   "execution_count": 16,
   "metadata": {},
   "outputs": [],
   "source": [
    "\n",
    "batch_size=10\n",
    "epochs=15\n",
    "input_shape=(IMG_SIZE,IMG_SIZE,1)"
   ]
  },
  {
   "cell_type": "code",
   "execution_count": 17,
   "metadata": {},
   "outputs": [
    {
     "name": "stdout",
     "output_type": "stream",
     "text": [
      "Model: \"sequential\"\n",
      "_________________________________________________________________\n",
      "Layer (type)                 Output Shape              Param #   \n",
      "=================================================================\n",
      "conv2d (Conv2D)              (None, 196, 196, 32)      832       \n",
      "_________________________________________________________________\n",
      "max_pooling2d (MaxPooling2D) (None, 98, 98, 32)        0         \n",
      "_________________________________________________________________\n",
      "conv2d_1 (Conv2D)            (None, 94, 94, 64)        51264     \n",
      "_________________________________________________________________\n",
      "max_pooling2d_1 (MaxPooling2 (None, 47, 47, 64)        0         \n",
      "_________________________________________________________________\n",
      "flatten (Flatten)            (None, 141376)            0         \n",
      "_________________________________________________________________\n",
      "dense (Dense)                (None, 64)                9048128   \n",
      "_________________________________________________________________\n",
      "dense_1 (Dense)              (None, 2)                 130       \n",
      "=================================================================\n",
      "Total params: 9,100,354\n",
      "Trainable params: 9,100,354\n",
      "Non-trainable params: 0\n",
      "_________________________________________________________________\n"
     ]
    }
   ],
   "source": [
    "#creating model\n",
    "model=Sequential()\n",
    "model.add(Conv2D(32,kernel_size=(5,5),strides=(1,1),\n",
    "                activation='relu',input_shape=input_shape))\n",
    "model.add(MaxPooling2D(pool_size=(2,2),strides=(2,2)))\n",
    "model.add(Conv2D(64,kernel_size=(5,5),activation='relu'))\n",
    "model.add(MaxPooling2D(pool_size=(2,2)))\n",
    "\n",
    "model.add(Flatten())\n",
    "model.add(Dense(64,activation='relu'))\n",
    "model.add(Dense(num_class,activation='sigmoid'))\n",
    "\n",
    "model.summary()\n",
    "\n"
   ]
  },
  {
   "cell_type": "code",
   "execution_count": 18,
   "metadata": {},
   "outputs": [],
   "source": [
    "from tensorflow.keras.optimizers import Adam,RMSprop,Nadam,SGD\n",
    "#from keras.callbacks import ModelCheckpoint,EarlyStopping,ReduceLROnPlateau\n",
    "from tensorflow.keras.callbacks import EarlyStopping,ModelCheckpoint,ReduceLROnPlateau\n"
   ]
  },
  {
   "cell_type": "code",
   "execution_count": 20,
   "metadata": {},
   "outputs": [
    {
     "name": "stdout",
     "output_type": "stream",
     "text": [
      "Epoch 1/15\n",
      "20/20 [==============================] - ETA: 0s - loss: 0.2334 - accuracy: 0.9000\n",
      "Epoch 00001: val_loss improved from inf to 0.11598, saving model to /home/sk-ji/Cont_ent/FlipNwork/Assignments/Assign_4/mens_wear_adam_cnn.h5\n",
      "20/20 [==============================] - 23s 1s/step - loss: 0.2334 - accuracy: 0.9000 - val_loss: 0.1160 - val_accuracy: 0.9444 - lr: 0.0010\n",
      "Epoch 2/15\n",
      "20/20 [==============================] - ETA: 0s - loss: 0.1464 - accuracy: 0.9450\n",
      "Epoch 00002: val_loss did not improve from 0.11598\n",
      "20/20 [==============================] - 24s 1s/step - loss: 0.1464 - accuracy: 0.9450 - val_loss: 0.2361 - val_accuracy: 0.8889 - lr: 0.0010\n",
      "Epoch 3/15\n",
      "20/20 [==============================] - ETA: 0s - loss: 0.1120 - accuracy: 0.9600\n",
      "Epoch 00003: val_loss improved from 0.11598 to 0.01522, saving model to /home/sk-ji/Cont_ent/FlipNwork/Assignments/Assign_4/mens_wear_adam_cnn.h5\n",
      "20/20 [==============================] - 28s 1s/step - loss: 0.1120 - accuracy: 0.9600 - val_loss: 0.0152 - val_accuracy: 1.0000 - lr: 0.0010\n",
      "Epoch 4/15\n",
      "20/20 [==============================] - ETA: 0s - loss: 0.0443 - accuracy: 0.9900\n",
      "Epoch 00004: val_loss did not improve from 0.01522\n",
      "20/20 [==============================] - 23s 1s/step - loss: 0.0443 - accuracy: 0.9900 - val_loss: 0.0189 - val_accuracy: 1.0000 - lr: 0.0010\n",
      "Epoch 5/15\n",
      "20/20 [==============================] - ETA: 0s - loss: 0.0466 - accuracy: 0.9850\n",
      "Epoch 00005: val_loss did not improve from 0.01522\n",
      "20/20 [==============================] - 26s 1s/step - loss: 0.0466 - accuracy: 0.9850 - val_loss: 0.0326 - val_accuracy: 1.0000 - lr: 0.0010\n",
      "Epoch 6/15\n",
      "20/20 [==============================] - ETA: 0s - loss: 0.0271 - accuracy: 1.0000\n",
      "Epoch 00006: val_loss improved from 0.01522 to 0.00242, saving model to /home/sk-ji/Cont_ent/FlipNwork/Assignments/Assign_4/mens_wear_adam_cnn.h5\n",
      "20/20 [==============================] - 29s 1s/step - loss: 0.0271 - accuracy: 1.0000 - val_loss: 0.0024 - val_accuracy: 1.0000 - lr: 0.0010\n",
      "Epoch 7/15\n",
      "20/20 [==============================] - ETA: 0s - loss: 0.0118 - accuracy: 1.0000\n",
      "Epoch 00007: val_loss improved from 0.00242 to 0.00040, saving model to /home/sk-ji/Cont_ent/FlipNwork/Assignments/Assign_4/mens_wear_adam_cnn.h5\n",
      "20/20 [==============================] - 28s 1s/step - loss: 0.0118 - accuracy: 1.0000 - val_loss: 3.9901e-04 - val_accuracy: 1.0000 - lr: 0.0010\n",
      "Epoch 8/15\n",
      "20/20 [==============================] - ETA: 0s - loss: 0.0124 - accuracy: 1.0000\n",
      "Epoch 00008: val_loss did not improve from 0.00040\n",
      "20/20 [==============================] - 24s 1s/step - loss: 0.0124 - accuracy: 1.0000 - val_loss: 0.0017 - val_accuracy: 1.0000 - lr: 0.0010\n",
      "Epoch 9/15\n",
      "20/20 [==============================] - ETA: 0s - loss: 0.0154 - accuracy: 1.0000\n",
      "Epoch 00009: val_loss improved from 0.00040 to 0.00020, saving model to /home/sk-ji/Cont_ent/FlipNwork/Assignments/Assign_4/mens_wear_adam_cnn.h5\n",
      "20/20 [==============================] - 30s 2s/step - loss: 0.0154 - accuracy: 1.0000 - val_loss: 2.0151e-04 - val_accuracy: 1.0000 - lr: 0.0010\n",
      "Epoch 10/15\n",
      "20/20 [==============================] - ETA: 0s - loss: 0.0367 - accuracy: 0.9950\n",
      "Epoch 00010: val_loss did not improve from 0.00020\n",
      "20/20 [==============================] - 25s 1s/step - loss: 0.0367 - accuracy: 0.9950 - val_loss: 0.0083 - val_accuracy: 1.0000 - lr: 0.0010\n",
      "Epoch 11/15\n",
      "20/20 [==============================] - ETA: 0s - loss: 0.0285 - accuracy: 0.9950\n",
      "Epoch 00011: val_loss did not improve from 0.00020\n",
      "20/20 [==============================] - 27s 1s/step - loss: 0.0285 - accuracy: 0.9950 - val_loss: 0.0016 - val_accuracy: 1.0000 - lr: 0.0010\n",
      "Epoch 12/15\n",
      "20/20 [==============================] - ETA: 0s - loss: 0.0269 - accuracy: 0.9900\n",
      "Epoch 00012: val_loss did not improve from 0.00020\n",
      "20/20 [==============================] - 25s 1s/step - loss: 0.0269 - accuracy: 0.9900 - val_loss: 0.0014 - val_accuracy: 1.0000 - lr: 0.0010\n",
      "Epoch 13/15\n",
      "20/20 [==============================] - ETA: 0s - loss: 0.0272 - accuracy: 0.9950\n",
      "Epoch 00013: val_loss did not improve from 0.00020\n",
      "20/20 [==============================] - 27s 1s/step - loss: 0.0272 - accuracy: 0.9950 - val_loss: 0.0064 - val_accuracy: 1.0000 - lr: 0.0010\n",
      "Epoch 14/15\n",
      "20/20 [==============================] - ETA: 0s - loss: 0.0567 - accuracy: 0.9950Restoring model weights from the end of the best epoch.\n",
      "\n",
      "Epoch 00014: val_loss did not improve from 0.00020\n",
      "\n",
      "Epoch 00014: ReduceLROnPlateau reducing learning rate to 0.00020000000949949026.\n",
      "20/20 [==============================] - 27s 1s/step - loss: 0.0567 - accuracy: 0.9950 - val_loss: 0.0176 - val_accuracy: 1.0000 - lr: 0.0010\n",
      "Epoch 00014: early stopping\n"
     ]
    }
   ],
   "source": [
    "def adam():\n",
    "    checkpoint=ModelCheckpoint('/home/sk-ji/Cont_ent/FlipNwork/Assignments/Assign_4/mens_wear_adam_cnn.h5',monitor='val_loss',mode='min',save_best_only=True,\n",
    "                           verbose=1)\n",
    "\n",
    "    earlystop=EarlyStopping(monitor='val_loss',min_delta=0,patience=5,verbose=1,restore_best_weights=True)\n",
    "\n",
    "    reduce_lr=ReduceLROnPlateau(monitor='val_loss',factor=0.2,patience=5,verbose=1,min_delta=0.0001)\n",
    "\n",
    "    callbacks=[earlystop,checkpoint,reduce_lr]\n",
    "    \n",
    "    model.compile(loss=tf.keras.losses.binary_crossentropy,\n",
    "              optimizer=tf.keras.optimizers.Adam(),\n",
    "             metrics=['accuracy'])\n",
    "    history=model.fit(x_train,y_train,batch_size=batch_size,epochs=epochs,verbose=1,callbacks=callbacks,\n",
    "            validation_data=(x_validation,y_validation))\n",
    "adam()"
   ]
  },
  {
   "cell_type": "code",
   "execution_count": 26,
   "metadata": {},
   "outputs": [
    {
     "name": "stdout",
     "output_type": "stream",
     "text": [
      "Epoch 1/15\n",
      "20/20 [==============================] - ETA: 0s - loss: 1.2444 - accuracy: 0.9050\n",
      "Epoch 00001: val_loss improved from inf to 0.02503, saving model to /home/sk-ji/Cont_ent/FlipNwork/Assignments/Assign_4/mens_wear_RMSprop_cnn.h5\n",
      "20/20 [==============================] - 25s 1s/step - loss: 1.2444 - accuracy: 0.9050 - val_loss: 0.0250 - val_accuracy: 1.0000 - lr: 0.0010\n",
      "Epoch 2/15\n",
      "20/20 [==============================] - ETA: 0s - loss: 0.0276 - accuracy: 0.9900\n",
      "Epoch 00002: val_loss improved from 0.02503 to 0.00073, saving model to /home/sk-ji/Cont_ent/FlipNwork/Assignments/Assign_4/mens_wear_RMSprop_cnn.h5\n",
      "20/20 [==============================] - 27s 1s/step - loss: 0.0276 - accuracy: 0.9900 - val_loss: 7.2860e-04 - val_accuracy: 1.0000 - lr: 0.0010\n",
      "Epoch 3/15\n",
      "20/20 [==============================] - ETA: 0s - loss: 0.0070 - accuracy: 0.9950\n",
      "Epoch 00003: val_loss improved from 0.00073 to 0.00001, saving model to /home/sk-ji/Cont_ent/FlipNwork/Assignments/Assign_4/mens_wear_RMSprop_cnn.h5\n",
      "20/20 [==============================] - 26s 1s/step - loss: 0.0070 - accuracy: 0.9950 - val_loss: 7.0031e-06 - val_accuracy: 1.0000 - lr: 0.0010\n",
      "Epoch 4/15\n",
      "20/20 [==============================] - ETA: 0s - loss: 1.7084e-04 - accuracy: 1.0000\n",
      "Epoch 00004: val_loss did not improve from 0.00001\n",
      "20/20 [==============================] - 25s 1s/step - loss: 1.7084e-04 - accuracy: 1.0000 - val_loss: 2.3547e-04 - val_accuracy: 1.0000 - lr: 0.0010\n",
      "Epoch 5/15\n",
      "20/20 [==============================] - ETA: 0s - loss: 6.9160e-05 - accuracy: 1.0000\n",
      "Epoch 00005: val_loss did not improve from 0.00001\n",
      "20/20 [==============================] - 29s 1s/step - loss: 6.9160e-05 - accuracy: 1.0000 - val_loss: 1.4707e-05 - val_accuracy: 1.0000 - lr: 0.0010\n",
      "Epoch 6/15\n",
      "20/20 [==============================] - ETA: 0s - loss: 1.6829e-05 - accuracy: 1.0000\n",
      "Epoch 00006: val_loss improved from 0.00001 to 0.00000, saving model to /home/sk-ji/Cont_ent/FlipNwork/Assignments/Assign_4/mens_wear_RMSprop_cnn.h5\n",
      "20/20 [==============================] - 30s 2s/step - loss: 1.6829e-05 - accuracy: 1.0000 - val_loss: 2.8880e-06 - val_accuracy: 1.0000 - lr: 0.0010\n",
      "Epoch 7/15\n",
      "20/20 [==============================] - ETA: 0s - loss: 7.2166e-06 - accuracy: 1.0000\n",
      "Epoch 00007: val_loss improved from 0.00000 to 0.00000, saving model to /home/sk-ji/Cont_ent/FlipNwork/Assignments/Assign_4/mens_wear_RMSprop_cnn.h5\n",
      "20/20 [==============================] - 29s 1s/step - loss: 7.2166e-06 - accuracy: 1.0000 - val_loss: 7.5607e-07 - val_accuracy: 1.0000 - lr: 0.0010\n",
      "Epoch 8/15\n",
      "20/20 [==============================] - ETA: 0s - loss: 4.3488e-06 - accuracy: 1.0000\n",
      "Epoch 00008: val_loss improved from 0.00000 to 0.00000, saving model to /home/sk-ji/Cont_ent/FlipNwork/Assignments/Assign_4/mens_wear_RMSprop_cnn.h5\n",
      "\n",
      "Epoch 00008: ReduceLROnPlateau reducing learning rate to 0.00020000000949949026.\n",
      "20/20 [==============================] - 29s 1s/step - loss: 4.3488e-06 - accuracy: 1.0000 - val_loss: 6.7373e-07 - val_accuracy: 1.0000 - lr: 0.0010\n",
      "Epoch 9/15\n",
      "20/20 [==============================] - ETA: 0s - loss: 1.4816e-06 - accuracy: 1.0000\n",
      "Epoch 00009: val_loss improved from 0.00000 to 0.00000, saving model to /home/sk-ji/Cont_ent/FlipNwork/Assignments/Assign_4/mens_wear_RMSprop_cnn.h5\n",
      "20/20 [==============================] - 29s 1s/step - loss: 1.4816e-06 - accuracy: 1.0000 - val_loss: 2.6356e-07 - val_accuracy: 1.0000 - lr: 2.0000e-04\n",
      "Epoch 10/15\n",
      "20/20 [==============================] - ETA: 0s - loss: 8.6433e-07 - accuracy: 1.0000\n",
      "Epoch 00010: val_loss improved from 0.00000 to 0.00000, saving model to /home/sk-ji/Cont_ent/FlipNwork/Assignments/Assign_4/mens_wear_RMSprop_cnn.h5\n",
      "20/20 [==============================] - 29s 1s/step - loss: 8.6433e-07 - accuracy: 1.0000 - val_loss: 1.3184e-07 - val_accuracy: 1.0000 - lr: 2.0000e-04\n",
      "Epoch 11/15\n",
      "20/20 [==============================] - ETA: 0s - loss: 6.3824e-07 - accuracy: 1.0000\n",
      "Epoch 00011: val_loss did not improve from 0.00000\n",
      "20/20 [==============================] - 30s 1s/step - loss: 6.3824e-07 - accuracy: 1.0000 - val_loss: 2.7078e-07 - val_accuracy: 1.0000 - lr: 2.0000e-04\n",
      "Epoch 12/15\n",
      "20/20 [==============================] - ETA: 0s - loss: 3.5709e-07 - accuracy: 1.0000\n",
      "Epoch 00012: val_loss improved from 0.00000 to 0.00000, saving model to /home/sk-ji/Cont_ent/FlipNwork/Assignments/Assign_4/mens_wear_RMSprop_cnn.h5\n",
      "20/20 [==============================] - 37s 2s/step - loss: 3.5709e-07 - accuracy: 1.0000 - val_loss: 7.4440e-08 - val_accuracy: 1.0000 - lr: 2.0000e-04\n",
      "Epoch 13/15\n",
      "20/20 [==============================] - ETA: 0s - loss: 2.3911e-07 - accuracy: 1.0000\n",
      "Epoch 00013: val_loss improved from 0.00000 to 0.00000, saving model to /home/sk-ji/Cont_ent/FlipNwork/Assignments/Assign_4/mens_wear_RMSprop_cnn.h5\n",
      "\n",
      "Epoch 00013: ReduceLROnPlateau reducing learning rate to 4.0000001899898055e-05.\n",
      "20/20 [==============================] - 39s 2s/step - loss: 2.3911e-07 - accuracy: 1.0000 - val_loss: 1.5620e-08 - val_accuracy: 1.0000 - lr: 2.0000e-04\n",
      "Epoch 14/15\n",
      "20/20 [==============================] - ETA: 0s - loss: 1.7908e-07 - accuracy: 1.0000\n",
      "Epoch 00014: val_loss did not improve from 0.00000\n",
      "20/20 [==============================] - 35s 2s/step - loss: 1.7908e-07 - accuracy: 1.0000 - val_loss: 2.7034e-08 - val_accuracy: 1.0000 - lr: 4.0000e-05\n",
      "Epoch 15/15\n",
      "20/20 [==============================] - ETA: 0s - loss: 1.2875e-07 - accuracy: 1.0000\n",
      "Epoch 00015: val_loss did not improve from 0.00000\n",
      "20/20 [==============================] - 34s 2s/step - loss: 1.2875e-07 - accuracy: 1.0000 - val_loss: 2.2901e-08 - val_accuracy: 1.0000 - lr: 4.0000e-05\n"
     ]
    }
   ],
   "source": [
    "def Rmsprop():\n",
    "    checkpoint=ModelCheckpoint('/home/sk-ji/Cont_ent/FlipNwork/Assignments/Assign_4/mens_wear_RMSprop_cnn.h5',monitor='val_loss',mode='min',save_best_only=True,\n",
    "                           verbose=1)\n",
    "\n",
    "    earlystop=EarlyStopping(monitor='val_loss',min_delta=0,patience=5,verbose=1,restore_best_weights=True)\n",
    "\n",
    "    reduce_lr=ReduceLROnPlateau(monitor='val_loss',factor=0.2,patience=5,verbose=1,min_delta=0.0001)\n",
    "\n",
    "    callbacks=[earlystop,checkpoint,reduce_lr]\n",
    "    model.compile(loss=tf.keras.losses.binary_crossentropy,\n",
    "              optimizer=tf.keras.optimizers.RMSprop(),\n",
    "             metrics=['accuracy'])\n",
    "    history=model.fit(x_train,y_train,batch_size=batch_size,epochs=epochs,verbose=1,callbacks=callbacks,\n",
    "            validation_data=(x_validation,y_validation))\n",
    "Rmsprop()    "
   ]
  },
  {
   "cell_type": "code",
   "execution_count": 27,
   "metadata": {},
   "outputs": [
    {
     "name": "stdout",
     "output_type": "stream",
     "text": [
      "Epoch 1/15\n",
      "20/20 [==============================] - ETA: 0s - loss: 0.0559 - accuracy: 0.9900\n",
      "Epoch 00001: val_loss improved from inf to 0.00015, saving model to /home/sk-ji/Cont_ent/FlipNwork/Assignments/Assign_4mens_wear_Nadam_cnn.h5\n",
      "20/20 [==============================] - 40s 2s/step - loss: 0.0559 - accuracy: 0.9900 - val_loss: 1.4913e-04 - val_accuracy: 1.0000 - lr: 0.0010\n",
      "Epoch 2/15\n",
      "20/20 [==============================] - ETA: 0s - loss: 0.0033 - accuracy: 1.0000\n",
      "Epoch 00002: val_loss improved from 0.00015 to 0.00004, saving model to /home/sk-ji/Cont_ent/FlipNwork/Assignments/Assign_4mens_wear_Nadam_cnn.h5\n",
      "20/20 [==============================] - 49s 2s/step - loss: 0.0033 - accuracy: 1.0000 - val_loss: 3.9639e-05 - val_accuracy: 1.0000 - lr: 0.0010\n",
      "Epoch 3/15\n",
      "20/20 [==============================] - ETA: 0s - loss: 4.2153e-04 - accuracy: 1.0000\n",
      "Epoch 00003: val_loss improved from 0.00004 to 0.00001, saving model to /home/sk-ji/Cont_ent/FlipNwork/Assignments/Assign_4mens_wear_Nadam_cnn.h5\n",
      "20/20 [==============================] - 49s 2s/step - loss: 4.2153e-04 - accuracy: 1.0000 - val_loss: 1.0323e-05 - val_accuracy: 1.0000 - lr: 0.0010\n",
      "Epoch 4/15\n",
      "20/20 [==============================] - ETA: 0s - loss: 1.2190e-04 - accuracy: 1.0000\n",
      "Epoch 00004: val_loss improved from 0.00001 to 0.00001, saving model to /home/sk-ji/Cont_ent/FlipNwork/Assignments/Assign_4mens_wear_Nadam_cnn.h5\n",
      "20/20 [==============================] - 45s 2s/step - loss: 1.2190e-04 - accuracy: 1.0000 - val_loss: 5.0479e-06 - val_accuracy: 1.0000 - lr: 0.0010\n",
      "Epoch 5/15\n",
      "20/20 [==============================] - ETA: 0s - loss: 7.0435e-05 - accuracy: 1.0000\n",
      "Epoch 00005: val_loss improved from 0.00001 to 0.00000, saving model to /home/sk-ji/Cont_ent/FlipNwork/Assignments/Assign_4mens_wear_Nadam_cnn.h5\n",
      "20/20 [==============================] - 47s 2s/step - loss: 7.0435e-05 - accuracy: 1.0000 - val_loss: 3.5358e-06 - val_accuracy: 1.0000 - lr: 0.0010\n",
      "Epoch 6/15\n",
      "20/20 [==============================] - ETA: 0s - loss: 5.2680e-05 - accuracy: 1.0000\n",
      "Epoch 00006: val_loss improved from 0.00000 to 0.00000, saving model to /home/sk-ji/Cont_ent/FlipNwork/Assignments/Assign_4mens_wear_Nadam_cnn.h5\n",
      "20/20 [==============================] - 50s 3s/step - loss: 5.2680e-05 - accuracy: 1.0000 - val_loss: 2.7203e-06 - val_accuracy: 1.0000 - lr: 0.0010\n",
      "Epoch 7/15\n",
      "20/20 [==============================] - ETA: 0s - loss: 4.0322e-05 - accuracy: 1.0000\n",
      "Epoch 00007: val_loss improved from 0.00000 to 0.00000, saving model to /home/sk-ji/Cont_ent/FlipNwork/Assignments/Assign_4mens_wear_Nadam_cnn.h5\n",
      "\n",
      "Epoch 00007: ReduceLROnPlateau reducing learning rate to 0.00020000000949949026.\n",
      "20/20 [==============================] - 47s 2s/step - loss: 4.0322e-05 - accuracy: 1.0000 - val_loss: 2.2611e-06 - val_accuracy: 1.0000 - lr: 0.0010\n",
      "Epoch 8/15\n",
      "20/20 [==============================] - ETA: 0s - loss: 3.4306e-05 - accuracy: 1.0000\n",
      "Epoch 00008: val_loss improved from 0.00000 to 0.00000, saving model to /home/sk-ji/Cont_ent/FlipNwork/Assignments/Assign_4mens_wear_Nadam_cnn.h5\n",
      "20/20 [==============================] - 52s 3s/step - loss: 3.4306e-05 - accuracy: 1.0000 - val_loss: 2.1832e-06 - val_accuracy: 1.0000 - lr: 2.0000e-04\n",
      "Epoch 9/15\n",
      "20/20 [==============================] - ETA: 0s - loss: 3.3122e-05 - accuracy: 1.0000\n",
      "Epoch 00009: val_loss improved from 0.00000 to 0.00000, saving model to /home/sk-ji/Cont_ent/FlipNwork/Assignments/Assign_4mens_wear_Nadam_cnn.h5\n",
      "20/20 [==============================] - 53s 3s/step - loss: 3.3122e-05 - accuracy: 1.0000 - val_loss: 2.1121e-06 - val_accuracy: 1.0000 - lr: 2.0000e-04\n",
      "Epoch 10/15\n",
      "20/20 [==============================] - ETA: 0s - loss: 3.1700e-05 - accuracy: 1.0000\n",
      "Epoch 00010: val_loss improved from 0.00000 to 0.00000, saving model to /home/sk-ji/Cont_ent/FlipNwork/Assignments/Assign_4mens_wear_Nadam_cnn.h5\n",
      "20/20 [==============================] - 47s 2s/step - loss: 3.1700e-05 - accuracy: 1.0000 - val_loss: 2.0315e-06 - val_accuracy: 1.0000 - lr: 2.0000e-04\n",
      "Epoch 11/15\n",
      "20/20 [==============================] - ETA: 0s - loss: 3.0460e-05 - accuracy: 1.0000\n",
      "Epoch 00011: val_loss improved from 0.00000 to 0.00000, saving model to /home/sk-ji/Cont_ent/FlipNwork/Assignments/Assign_4mens_wear_Nadam_cnn.h5\n",
      "20/20 [==============================] - 45s 2s/step - loss: 3.0460e-05 - accuracy: 1.0000 - val_loss: 1.9601e-06 - val_accuracy: 1.0000 - lr: 2.0000e-04\n",
      "Epoch 12/15\n",
      "20/20 [==============================] - ETA: 0s - loss: 2.9237e-05 - accuracy: 1.0000\n",
      "Epoch 00012: val_loss improved from 0.00000 to 0.00000, saving model to /home/sk-ji/Cont_ent/FlipNwork/Assignments/Assign_4mens_wear_Nadam_cnn.h5\n",
      "\n",
      "Epoch 00012: ReduceLROnPlateau reducing learning rate to 4.0000001899898055e-05.\n",
      "20/20 [==============================] - 45s 2s/step - loss: 2.9237e-05 - accuracy: 1.0000 - val_loss: 1.8906e-06 - val_accuracy: 1.0000 - lr: 2.0000e-04\n",
      "Epoch 13/15\n",
      "20/20 [==============================] - ETA: 0s - loss: 2.8200e-05 - accuracy: 1.0000\n",
      "Epoch 00013: val_loss improved from 0.00000 to 0.00000, saving model to /home/sk-ji/Cont_ent/FlipNwork/Assignments/Assign_4mens_wear_Nadam_cnn.h5\n",
      "20/20 [==============================] - 44s 2s/step - loss: 2.8200e-05 - accuracy: 1.0000 - val_loss: 1.8784e-06 - val_accuracy: 1.0000 - lr: 4.0000e-05\n",
      "Epoch 14/15\n",
      "20/20 [==============================] - ETA: 0s - loss: 2.7985e-05 - accuracy: 1.0000\n",
      "Epoch 00014: val_loss improved from 0.00000 to 0.00000, saving model to /home/sk-ji/Cont_ent/FlipNwork/Assignments/Assign_4mens_wear_Nadam_cnn.h5\n",
      "20/20 [==============================] - 43s 2s/step - loss: 2.7985e-05 - accuracy: 1.0000 - val_loss: 1.8637e-06 - val_accuracy: 1.0000 - lr: 4.0000e-05\n",
      "Epoch 15/15\n",
      "20/20 [==============================] - ETA: 0s - loss: 2.7740e-05 - accuracy: 1.0000\n",
      "Epoch 00015: val_loss improved from 0.00000 to 0.00000, saving model to /home/sk-ji/Cont_ent/FlipNwork/Assignments/Assign_4mens_wear_Nadam_cnn.h5\n",
      "20/20 [==============================] - 45s 2s/step - loss: 2.7740e-05 - accuracy: 1.0000 - val_loss: 1.8517e-06 - val_accuracy: 1.0000 - lr: 4.0000e-05\n"
     ]
    }
   ],
   "source": [
    "def Nadam():\n",
    "    checkpoint=ModelCheckpoint('/home/sk-ji/Cont_ent/FlipNwork/Assignments/Assign_4mens_wear_Nadam_cnn.h5',monitor='val_loss',mode='min',save_best_only=True,\n",
    "                           verbose=1)\n",
    "\n",
    "    earlystop=EarlyStopping(monitor='val_loss',min_delta=0,patience=5,verbose=1,restore_best_weights=True)\n",
    "\n",
    "    reduce_lr=ReduceLROnPlateau(monitor='val_loss',factor=0.2,patience=5,verbose=1,min_delta=0.0001)\n",
    "\n",
    "    callbacks=[earlystop,checkpoint,reduce_lr]\n",
    "    model.compile(loss=tf.keras.losses.binary_crossentropy,\n",
    "              optimizer=tf.keras.optimizers.Nadam(),\n",
    "             metrics=['accuracy'])\n",
    "    history=model.fit(x_train,y_train,batch_size=batch_size,epochs=epochs,verbose=1,callbacks=callbacks,\n",
    "            validation_data=(x_validation,y_validation))\n",
    "Nadam()    "
   ]
  },
  {
   "cell_type": "code",
   "execution_count": 28,
   "metadata": {},
   "outputs": [
    {
     "name": "stdout",
     "output_type": "stream",
     "text": [
      "Epoch 1/15\n",
      "20/20 [==============================] - ETA: 0s - loss: 2.7376e-05 - accuracy: 1.0000\n",
      "Epoch 00001: val_loss improved from inf to 0.00000, saving model to /home/sk-ji/Cont_ent/FlipNwork/Assignments/Assign_4/mens_wear_SGD_momentum_cnn.h5\n",
      "20/20 [==============================] - 40s 2s/step - loss: 2.7376e-05 - accuracy: 1.0000 - val_loss: 1.7042e-06 - val_accuracy: 1.0000 - lr: 0.0010\n",
      "Epoch 2/15\n",
      "20/20 [==============================] - ETA: 0s - loss: 2.6048e-05 - accuracy: 1.0000\n",
      "Epoch 00002: val_loss improved from 0.00000 to 0.00000, saving model to /home/sk-ji/Cont_ent/FlipNwork/Assignments/Assign_4/mens_wear_SGD_momentum_cnn.h5\n",
      "20/20 [==============================] - 40s 2s/step - loss: 2.6048e-05 - accuracy: 1.0000 - val_loss: 1.5675e-06 - val_accuracy: 1.0000 - lr: 0.0010\n",
      "Epoch 3/15\n",
      "20/20 [==============================] - ETA: 0s - loss: 2.5278e-05 - accuracy: 1.0000\n",
      "Epoch 00003: val_loss improved from 0.00000 to 0.00000, saving model to /home/sk-ji/Cont_ent/FlipNwork/Assignments/Assign_4/mens_wear_SGD_momentum_cnn.h5\n",
      "20/20 [==============================] - 40s 2s/step - loss: 2.5278e-05 - accuracy: 1.0000 - val_loss: 1.4032e-06 - val_accuracy: 1.0000 - lr: 0.0010\n",
      "Epoch 4/15\n",
      "20/20 [==============================] - ETA: 0s - loss: 2.4232e-05 - accuracy: 1.0000\n",
      "Epoch 00004: val_loss improved from 0.00000 to 0.00000, saving model to /home/sk-ji/Cont_ent/FlipNwork/Assignments/Assign_4/mens_wear_SGD_momentum_cnn.h5\n",
      "20/20 [==============================] - 44s 2s/step - loss: 2.4232e-05 - accuracy: 1.0000 - val_loss: 1.2990e-06 - val_accuracy: 1.0000 - lr: 0.0010\n",
      "Epoch 5/15\n",
      "20/20 [==============================] - ETA: 0s - loss: 2.3529e-05 - accuracy: 1.0000\n",
      "Epoch 00005: val_loss improved from 0.00000 to 0.00000, saving model to /home/sk-ji/Cont_ent/FlipNwork/Assignments/Assign_4/mens_wear_SGD_momentum_cnn.h5\n",
      "20/20 [==============================] - 34s 2s/step - loss: 2.3529e-05 - accuracy: 1.0000 - val_loss: 1.2653e-06 - val_accuracy: 1.0000 - lr: 0.0010\n",
      "Epoch 6/15\n",
      "20/20 [==============================] - ETA: 0s - loss: 2.2906e-05 - accuracy: 1.0000\n",
      "Epoch 00006: val_loss improved from 0.00000 to 0.00000, saving model to /home/sk-ji/Cont_ent/FlipNwork/Assignments/Assign_4/mens_wear_SGD_momentum_cnn.h5\n",
      "\n",
      "Epoch 00006: ReduceLROnPlateau reducing learning rate to 0.00020000000949949026.\n",
      "20/20 [==============================] - 30s 2s/step - loss: 2.2906e-05 - accuracy: 1.0000 - val_loss: 1.1805e-06 - val_accuracy: 1.0000 - lr: 0.0010\n",
      "Epoch 7/15\n",
      "20/20 [==============================] - ETA: 0s - loss: 2.2547e-05 - accuracy: 1.0000\n",
      "Epoch 00007: val_loss improved from 0.00000 to 0.00000, saving model to /home/sk-ji/Cont_ent/FlipNwork/Assignments/Assign_4/mens_wear_SGD_momentum_cnn.h5\n",
      "20/20 [==============================] - 35s 2s/step - loss: 2.2547e-05 - accuracy: 1.0000 - val_loss: 1.1356e-06 - val_accuracy: 1.0000 - lr: 2.0000e-04\n",
      "Epoch 8/15\n",
      "20/20 [==============================] - ETA: 0s - loss: 2.2325e-05 - accuracy: 1.0000\n",
      "Epoch 00008: val_loss improved from 0.00000 to 0.00000, saving model to /home/sk-ji/Cont_ent/FlipNwork/Assignments/Assign_4/mens_wear_SGD_momentum_cnn.h5\n",
      "20/20 [==============================] - 34s 2s/step - loss: 2.2325e-05 - accuracy: 1.0000 - val_loss: 1.1302e-06 - val_accuracy: 1.0000 - lr: 2.0000e-04\n",
      "Epoch 9/15\n",
      "20/20 [==============================] - ETA: 0s - loss: 2.2223e-05 - accuracy: 1.0000\n",
      "Epoch 00009: val_loss improved from 0.00000 to 0.00000, saving model to /home/sk-ji/Cont_ent/FlipNwork/Assignments/Assign_4/mens_wear_SGD_momentum_cnn.h5\n",
      "20/20 [==============================] - 35s 2s/step - loss: 2.2223e-05 - accuracy: 1.0000 - val_loss: 1.1175e-06 - val_accuracy: 1.0000 - lr: 2.0000e-04\n",
      "Epoch 10/15\n",
      "20/20 [==============================] - ETA: 0s - loss: 2.2118e-05 - accuracy: 1.0000\n",
      "Epoch 00010: val_loss improved from 0.00000 to 0.00000, saving model to /home/sk-ji/Cont_ent/FlipNwork/Assignments/Assign_4/mens_wear_SGD_momentum_cnn.h5\n",
      "20/20 [==============================] - 46s 2s/step - loss: 2.2118e-05 - accuracy: 1.0000 - val_loss: 1.1084e-06 - val_accuracy: 1.0000 - lr: 2.0000e-04\n",
      "Epoch 11/15\n",
      "20/20 [==============================] - ETA: 0s - loss: 2.2024e-05 - accuracy: 1.0000\n",
      "Epoch 00011: val_loss improved from 0.00000 to 0.00000, saving model to /home/sk-ji/Cont_ent/FlipNwork/Assignments/Assign_4/mens_wear_SGD_momentum_cnn.h5\n",
      "\n",
      "Epoch 00011: ReduceLROnPlateau reducing learning rate to 4.0000001899898055e-05.\n",
      "20/20 [==============================] - 33s 2s/step - loss: 2.2024e-05 - accuracy: 1.0000 - val_loss: 1.1005e-06 - val_accuracy: 1.0000 - lr: 2.0000e-04\n",
      "Epoch 12/15\n",
      "20/20 [==============================] - ETA: 0s - loss: 2.1939e-05 - accuracy: 1.0000\n",
      "Epoch 00012: val_loss improved from 0.00000 to 0.00000, saving model to /home/sk-ji/Cont_ent/FlipNwork/Assignments/Assign_4/mens_wear_SGD_momentum_cnn.h5\n",
      "20/20 [==============================] - 31s 2s/step - loss: 2.1939e-05 - accuracy: 1.0000 - val_loss: 1.0978e-06 - val_accuracy: 1.0000 - lr: 4.0000e-05\n",
      "Epoch 13/15\n",
      "20/20 [==============================] - ETA: 0s - loss: 2.1915e-05 - accuracy: 1.0000\n",
      "Epoch 00013: val_loss improved from 0.00000 to 0.00000, saving model to /home/sk-ji/Cont_ent/FlipNwork/Assignments/Assign_4/mens_wear_SGD_momentum_cnn.h5\n",
      "20/20 [==============================] - 31s 2s/step - loss: 2.1915e-05 - accuracy: 1.0000 - val_loss: 1.0959e-06 - val_accuracy: 1.0000 - lr: 4.0000e-05\n",
      "Epoch 14/15\n",
      "20/20 [==============================] - ETA: 0s - loss: 2.1900e-05 - accuracy: 1.0000\n",
      "Epoch 00014: val_loss improved from 0.00000 to 0.00000, saving model to /home/sk-ji/Cont_ent/FlipNwork/Assignments/Assign_4/mens_wear_SGD_momentum_cnn.h5\n",
      "20/20 [==============================] - 33s 2s/step - loss: 2.1900e-05 - accuracy: 1.0000 - val_loss: 1.0934e-06 - val_accuracy: 1.0000 - lr: 4.0000e-05\n",
      "Epoch 15/15\n",
      "20/20 [==============================] - ETA: 0s - loss: 2.1882e-05 - accuracy: 1.0000\n",
      "Epoch 00015: val_loss improved from 0.00000 to 0.00000, saving model to /home/sk-ji/Cont_ent/FlipNwork/Assignments/Assign_4/mens_wear_SGD_momentum_cnn.h5\n",
      "20/20 [==============================] - 30s 1s/step - loss: 2.1882e-05 - accuracy: 1.0000 - val_loss: 1.0925e-06 - val_accuracy: 1.0000 - lr: 4.0000e-05\n"
     ]
    }
   ],
   "source": [
    "def SGD_momentum():\n",
    "    checkpoint=ModelCheckpoint('/home/sk-ji/Cont_ent/FlipNwork/Assignments/Assign_4/mens_wear_SGD_momentum_cnn.h5',monitor='val_loss',mode='min',save_best_only=True,\n",
    "                           verbose=1)\n",
    "\n",
    "    earlystop=EarlyStopping(monitor='val_loss',min_delta=0,patience=5,verbose=1,restore_best_weights=True)\n",
    "\n",
    "    reduce_lr=ReduceLROnPlateau(monitor='val_loss',factor=0.2,patience=5,verbose=1,min_delta=0.0001)\n",
    "\n",
    "    callbacks=[earlystop,checkpoint,reduce_lr]\n",
    "    model.compile(loss=tf.keras.losses.binary_crossentropy,\n",
    "              optimizer=tf.keras.optimizers.SGD(lr=0.001,momentum=0.9),\n",
    "             metrics=['accuracy'])\n",
    "    history=model.fit(x_train,y_train,batch_size=batch_size,epochs=epochs,verbose=1,callbacks=callbacks,\n",
    "            validation_data=(x_validation,y_validation))\n",
    "SGD_momentum()    "
   ]
  },
  {
   "cell_type": "code",
   "execution_count": 29,
   "metadata": {},
   "outputs": [
    {
     "name": "stdout",
     "output_type": "stream",
     "text": [
      "Epoch 1/15\n",
      "20/20 [==============================] - ETA: 0s - loss: 2.2024e-05 - accuracy: 1.0000\n",
      "Epoch 00001: val_loss improved from inf to 0.00000, saving model to /home/sk-ji/Cont_ent/FlipNwork/Assignments/Assign_4/mens_wear_NAG_cnn.h5\n",
      "20/20 [==============================] - 27s 1s/step - loss: 2.2024e-05 - accuracy: 1.0000 - val_loss: 1.0584e-06 - val_accuracy: 1.0000 - lr: 0.0100\n",
      "Epoch 2/15\n",
      "20/20 [==============================] - ETA: 0s - loss: 2.1579e-05 - accuracy: 1.0000\n",
      "Epoch 00002: val_loss improved from 0.00000 to 0.00000, saving model to /home/sk-ji/Cont_ent/FlipNwork/Assignments/Assign_4/mens_wear_NAG_cnn.h5\n",
      "20/20 [==============================] - 33s 2s/step - loss: 2.1579e-05 - accuracy: 1.0000 - val_loss: 1.0231e-06 - val_accuracy: 1.0000 - lr: 0.0100\n",
      "Epoch 3/15\n",
      "20/20 [==============================] - ETA: 0s - loss: 2.1144e-05 - accuracy: 1.0000\n",
      "Epoch 00003: val_loss improved from 0.00000 to 0.00000, saving model to /home/sk-ji/Cont_ent/FlipNwork/Assignments/Assign_4/mens_wear_NAG_cnn.h5\n",
      "20/20 [==============================] - 41s 2s/step - loss: 2.1144e-05 - accuracy: 1.0000 - val_loss: 9.9849e-07 - val_accuracy: 1.0000 - lr: 0.0100\n",
      "Epoch 4/15\n",
      "20/20 [==============================] - ETA: 0s - loss: 2.0863e-05 - accuracy: 1.0000\n",
      "Epoch 00004: val_loss improved from 0.00000 to 0.00000, saving model to /home/sk-ji/Cont_ent/FlipNwork/Assignments/Assign_4/mens_wear_NAG_cnn.h5\n",
      "20/20 [==============================] - 33s 2s/step - loss: 2.0863e-05 - accuracy: 1.0000 - val_loss: 9.7754e-07 - val_accuracy: 1.0000 - lr: 0.0100\n",
      "Epoch 5/15\n",
      "20/20 [==============================] - ETA: 0s - loss: 2.0603e-05 - accuracy: 1.0000\n",
      "Epoch 00005: val_loss improved from 0.00000 to 0.00000, saving model to /home/sk-ji/Cont_ent/FlipNwork/Assignments/Assign_4/mens_wear_NAG_cnn.h5\n",
      "20/20 [==============================] - 48s 2s/step - loss: 2.0603e-05 - accuracy: 1.0000 - val_loss: 9.5190e-07 - val_accuracy: 1.0000 - lr: 0.0100\n",
      "Epoch 6/15\n",
      "20/20 [==============================] - ETA: 0s - loss: 2.0326e-05 - accuracy: 1.0000\n",
      "Epoch 00006: val_loss improved from 0.00000 to 0.00000, saving model to /home/sk-ji/Cont_ent/FlipNwork/Assignments/Assign_4/mens_wear_NAG_cnn.h5\n",
      "\n",
      "Epoch 00006: ReduceLROnPlateau reducing learning rate to 0.0019999999552965165.\n",
      "20/20 [==============================] - 29s 1s/step - loss: 2.0326e-05 - accuracy: 1.0000 - val_loss: 9.3433e-07 - val_accuracy: 1.0000 - lr: 0.0100\n",
      "Epoch 7/15\n",
      "20/20 [==============================] - ETA: 0s - loss: 1.9885e-05 - accuracy: 1.0000\n",
      "Epoch 00007: val_loss improved from 0.00000 to 0.00000, saving model to /home/sk-ji/Cont_ent/FlipNwork/Assignments/Assign_4/mens_wear_NAG_cnn.h5\n",
      "20/20 [==============================] - 38s 2s/step - loss: 1.9885e-05 - accuracy: 1.0000 - val_loss: 9.3055e-07 - val_accuracy: 1.0000 - lr: 0.0020\n",
      "Epoch 8/15\n",
      "20/20 [==============================] - ETA: 0s - loss: 1.9846e-05 - accuracy: 1.0000\n",
      "Epoch 00008: val_loss improved from 0.00000 to 0.00000, saving model to /home/sk-ji/Cont_ent/FlipNwork/Assignments/Assign_4/mens_wear_NAG_cnn.h5\n",
      "20/20 [==============================] - 42s 2s/step - loss: 1.9846e-05 - accuracy: 1.0000 - val_loss: 9.2696e-07 - val_accuracy: 1.0000 - lr: 0.0020\n",
      "Epoch 9/15\n",
      "20/20 [==============================] - ETA: 0s - loss: 1.9781e-05 - accuracy: 1.0000\n",
      "Epoch 00009: val_loss improved from 0.00000 to 0.00000, saving model to /home/sk-ji/Cont_ent/FlipNwork/Assignments/Assign_4/mens_wear_NAG_cnn.h5\n",
      "20/20 [==============================] - 36s 2s/step - loss: 1.9781e-05 - accuracy: 1.0000 - val_loss: 9.2328e-07 - val_accuracy: 1.0000 - lr: 0.0020\n",
      "Epoch 10/15\n",
      "20/20 [==============================] - ETA: 0s - loss: 1.9741e-05 - accuracy: 1.0000\n",
      "Epoch 00010: val_loss improved from 0.00000 to 0.00000, saving model to /home/sk-ji/Cont_ent/FlipNwork/Assignments/Assign_4/mens_wear_NAG_cnn.h5\n",
      "20/20 [==============================] - 32s 2s/step - loss: 1.9741e-05 - accuracy: 1.0000 - val_loss: 9.1995e-07 - val_accuracy: 1.0000 - lr: 0.0020\n",
      "Epoch 11/15\n",
      "20/20 [==============================] - ETA: 0s - loss: 1.9676e-05 - accuracy: 1.0000\n",
      "Epoch 00011: val_loss improved from 0.00000 to 0.00000, saving model to /home/sk-ji/Cont_ent/FlipNwork/Assignments/Assign_4/mens_wear_NAG_cnn.h5\n",
      "\n",
      "Epoch 00011: ReduceLROnPlateau reducing learning rate to 0.0003999999724328518.\n",
      "20/20 [==============================] - 33s 2s/step - loss: 1.9676e-05 - accuracy: 1.0000 - val_loss: 9.1668e-07 - val_accuracy: 1.0000 - lr: 0.0020\n",
      "Epoch 12/15\n",
      "20/20 [==============================] - ETA: 0s - loss: 1.9595e-05 - accuracy: 1.0000\n",
      "Epoch 00012: val_loss improved from 0.00000 to 0.00000, saving model to /home/sk-ji/Cont_ent/FlipNwork/Assignments/Assign_4/mens_wear_NAG_cnn.h5\n",
      "20/20 [==============================] - 32s 2s/step - loss: 1.9595e-05 - accuracy: 1.0000 - val_loss: 9.1601e-07 - val_accuracy: 1.0000 - lr: 4.0000e-04\n",
      "Epoch 13/15\n",
      "20/20 [==============================] - ETA: 0s - loss: 1.9577e-05 - accuracy: 1.0000\n",
      "Epoch 00013: val_loss improved from 0.00000 to 0.00000, saving model to /home/sk-ji/Cont_ent/FlipNwork/Assignments/Assign_4/mens_wear_NAG_cnn.h5\n",
      "20/20 [==============================] - 32s 2s/step - loss: 1.9577e-05 - accuracy: 1.0000 - val_loss: 9.1530e-07 - val_accuracy: 1.0000 - lr: 4.0000e-04\n",
      "Epoch 14/15\n",
      "20/20 [==============================] - ETA: 0s - loss: 1.9572e-05 - accuracy: 1.0000\n",
      "Epoch 00014: val_loss improved from 0.00000 to 0.00000, saving model to /home/sk-ji/Cont_ent/FlipNwork/Assignments/Assign_4/mens_wear_NAG_cnn.h5\n",
      "20/20 [==============================] - 32s 2s/step - loss: 1.9572e-05 - accuracy: 1.0000 - val_loss: 9.1461e-07 - val_accuracy: 1.0000 - lr: 4.0000e-04\n",
      "Epoch 15/15\n",
      "20/20 [==============================] - ETA: 0s - loss: 1.9563e-05 - accuracy: 1.0000\n",
      "Epoch 00015: val_loss improved from 0.00000 to 0.00000, saving model to /home/sk-ji/Cont_ent/FlipNwork/Assignments/Assign_4/mens_wear_NAG_cnn.h5\n",
      "20/20 [==============================] - 31s 2s/step - loss: 1.9563e-05 - accuracy: 1.0000 - val_loss: 9.1392e-07 - val_accuracy: 1.0000 - lr: 4.0000e-04\n"
     ]
    }
   ],
   "source": [
    "def NAG():\n",
    "    checkpoint=ModelCheckpoint('/home/sk-ji/Cont_ent/FlipNwork/Assignments/Assign_4/mens_wear_NAG_cnn.h5',monitor='val_loss',mode='min',save_best_only=True,\n",
    "                           verbose=1)\n",
    "\n",
    "    earlystop=EarlyStopping(monitor='val_loss',min_delta=0,patience=5,verbose=1,restore_best_weights=True)\n",
    "\n",
    "    reduce_lr=ReduceLROnPlateau(monitor='val_loss',factor=0.2,patience=5,verbose=1,min_delta=0.0001)\n",
    "\n",
    "    callbacks=[earlystop,checkpoint,reduce_lr]\n",
    "    model.compile(loss=tf.keras.losses.binary_crossentropy,\n",
    "              optimizer=tf.keras.optimizers.SGD(lr=0.01,nesterov=0.9),\n",
    "             metrics=['accuracy'])\n",
    "    history=model.fit(x_train,y_train,batch_size=batch_size,epochs=epochs,verbose=1,callbacks=callbacks,\n",
    "            validation_data=(x_validation,y_validation))\n",
    "NAG()    "
   ]
  },
  {
   "cell_type": "code",
   "execution_count": null,
   "metadata": {},
   "outputs": [],
   "source": []
  },
  {
   "cell_type": "code",
   "execution_count": 30,
   "metadata": {},
   "outputs": [],
   "source": [
    "#Loading the model\n",
    "\n",
    "import tensorflow as tf \n",
    "classifier = tf.keras.models.load_model('/home/sk-ji/Cont_ent/FlipNwork/Assignments/Assign_4/mens_wear_NAG_cnn.h5')"
   ]
  },
  {
   "cell_type": "code",
   "execution_count": 31,
   "metadata": {},
   "outputs": [
    {
     "name": "stdout",
     "output_type": "stream",
     "text": [
      "WARNING:tensorflow:From <ipython-input-31-ef6acbd8d0c5>:27: Sequential.predict_classes (from tensorflow.python.keras.engine.sequential) is deprecated and will be removed after 2021-01-01.\n",
      "Instructions for updating:\n",
      "Please use instead:* `np.argmax(model.predict(x), axis=-1)`,   if your model does multi-class classification   (e.g. if it uses a `softmax` last-layer activation).* `(model.predict(x) > 0.5).astype(\"int32\")`,   if your model does binary classification   (e.g. if it uses a `sigmoid` last-layer activation).\n"
     ]
    }
   ],
   "source": [
    "import warnings\n",
    "warnings.filterwarnings('ignore')\n",
    "import cv2\n",
    "import numpy as np\n",
    "\n",
    "def draw_test(name,res,input_im):\n",
    "    BLACK=[0,0,0]\n",
    "    res=int(res)\n",
    "    if res==0:\n",
    "        pred=\"Jeans\"\n",
    "    if res==1:\n",
    "        pred=\"Trouser\"\n",
    "    expanded_image=cv2.copyMakeBorder(input_im,0,0,0,imageL.shape[0]*3, cv2.BORDER_CONSTANT,value=BLACK)\n",
    "    expanded_image=cv2.cvtColor(expanded_image,cv2.COLOR_GRAY2BGR)\n",
    "    cv2.putText(expanded_image,str(pred),(100,100),cv2.FONT_HERSHEY_COMPLEX_SMALL,4,(1,60,0),5)\n",
    "    cv2.imshow(name,expanded_image)\n",
    "    \n",
    "    \n",
    "for i in range (0,10):\n",
    "    rand=np.random.randint(0,len(x_train))\n",
    "    input_im=x_train[rand]\n",
    "    \n",
    "    imageL=cv2.resize(input_im,None,fx=4,fy=4,interpolation=cv2.INTER_CUBIC)\n",
    "    input_im=input_im.reshape(1,200,200,1)\n",
    "    \n",
    "    #get prediction\n",
    "    res=str(classifier.predict_classes(input_im,1,verbose=0)[0])\n",
    "    \n",
    "    draw_test(\"Prediction\",res,imageL)\n",
    "    cv2.waitKey(0)\n",
    "    \n",
    "cv2.destroyAllWindows()"
   ]
  },
  {
   "cell_type": "code",
   "execution_count": 32,
   "metadata": {},
   "outputs": [
    {
     "data": {
      "text/plain": [
       "'/home/sk-ji/fliprobo-assign'"
      ]
     },
     "execution_count": 32,
     "metadata": {},
     "output_type": "execute_result"
    }
   ],
   "source": [
    "pwd"
   ]
  },
  {
   "cell_type": "code",
   "execution_count": null,
   "metadata": {},
   "outputs": [],
   "source": []
  }
 ],
 "metadata": {
  "kernelspec": {
   "display_name": "Python 3",
   "language": "python",
   "name": "python3"
  },
  "language_info": {
   "codemirror_mode": {
    "name": "ipython",
    "version": 3
   },
   "file_extension": ".py",
   "mimetype": "text/x-python",
   "name": "python",
   "nbconvert_exporter": "python",
   "pygments_lexer": "ipython3",
   "version": "3.7.4"
  }
 },
 "nbformat": 4,
 "nbformat_minor": 2
}
